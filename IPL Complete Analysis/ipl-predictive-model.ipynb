{
 "cells": [
  {
   "cell_type": "code",
   "execution_count": 1,
   "metadata": {
    "_cell_guid": "b1076dfc-b9ad-4769-8c92-a6c4dae69d19",
    "_uuid": "8f2839f25d086af736a60e9eeb907d3b93b6e0e5",
    "execution": {
     "iopub.execute_input": "2021-01-01T13:48:58.642980Z",
     "iopub.status.busy": "2021-01-01T13:48:58.642333Z",
     "iopub.status.idle": "2021-01-01T13:48:58.657061Z",
     "shell.execute_reply": "2021-01-01T13:48:58.656475Z"
    },
    "papermill": {
     "duration": 0.041622,
     "end_time": "2021-01-01T13:48:58.657177",
     "exception": false,
     "start_time": "2021-01-01T13:48:58.615555",
     "status": "completed"
    },
    "tags": []
   },
   "outputs": [
    {
     "name": "stdout",
     "output_type": "stream",
     "text": [
      "/kaggle/input/skillsay-ai-crickethon-dataset/matches.csv\n",
      "/kaggle/input/skillsay-ai-crickethon-dataset/deliveries.csv\n"
     ]
    }
   ],
   "source": [
    "# Team Annihilators- MehulKumar Patel,Dhiraj Patel\n",
    "# Emails: dhiru474@gmail.com,mkpatel.p64@gmail.com\n",
    "# This Python 3 environment comes with many helpful analytics libraries installed\n",
    "# It is defined by the kaggle/python Docker image: https://github.com/kaggle/docker-python\n",
    "# For example, here's several helpful packages to load\n",
    "\n",
    "import numpy as np # linear algebra\n",
    "import pandas as pd # data processing, CSV file I/O (e.g. pd.read_csv)\n",
    "\n",
    "# Input data files are available in the read-only \"../input/\" directory\n",
    "# For example, running this (by clicking run or pressing Shift+Enter) will list all files under the input directory\n",
    "\n",
    "import os\n",
    "for dirname, _, filenames in os.walk('/kaggle/input'):\n",
    "    for filename in filenames:\n",
    "        print(os.path.join(dirname, filename))\n",
    "\n",
    "# You can write up to 20GB to the current directory (/kaggle/working/) that gets preserved as output when you create a version using \"Save & Run All\" \n",
    "# You can also write temporary files to /kaggle/temp/, but they won't be saved outside of the current session"
   ]
  },
  {
   "cell_type": "code",
   "execution_count": 2,
   "metadata": {
    "_cell_guid": "79c7e3d0-c299-4dcb-8224-4455121ee9b0",
    "_uuid": "d629ff2d2480ee46fbb7e2d37f6b5fab8052498a",
    "execution": {
     "iopub.execute_input": "2021-01-01T13:48:58.707087Z",
     "iopub.status.busy": "2021-01-01T13:48:58.706454Z",
     "iopub.status.idle": "2021-01-01T13:48:59.320734Z",
     "shell.execute_reply": "2021-01-01T13:48:59.321308Z"
    },
    "papermill": {
     "duration": 0.640435,
     "end_time": "2021-01-01T13:48:59.321464",
     "exception": false,
     "start_time": "2021-01-01T13:48:58.681029",
     "status": "completed"
    },
    "tags": []
   },
   "outputs": [],
   "source": [
    "matches = pd.read_csv('/kaggle/input/skillsay-ai-crickethon-dataset/matches.csv')\n",
    "deliveries = pd.read_csv('/kaggle/input/skillsay-ai-crickethon-dataset/deliveries.csv')"
   ]
  },
  {
   "cell_type": "code",
   "execution_count": 3,
   "metadata": {
    "execution": {
     "iopub.execute_input": "2021-01-01T13:48:59.371881Z",
     "iopub.status.busy": "2021-01-01T13:48:59.371239Z",
     "iopub.status.idle": "2021-01-01T13:48:59.406469Z",
     "shell.execute_reply": "2021-01-01T13:48:59.407060Z"
    },
    "papermill": {
     "duration": 0.061895,
     "end_time": "2021-01-01T13:48:59.407209",
     "exception": false,
     "start_time": "2021-01-01T13:48:59.345314",
     "status": "completed"
    },
    "tags": []
   },
   "outputs": [
    {
     "data": {
      "text/html": [
       "<div>\n",
       "<style scoped>\n",
       "    .dataframe tbody tr th:only-of-type {\n",
       "        vertical-align: middle;\n",
       "    }\n",
       "\n",
       "    .dataframe tbody tr th {\n",
       "        vertical-align: top;\n",
       "    }\n",
       "\n",
       "    .dataframe thead th {\n",
       "        text-align: right;\n",
       "    }\n",
       "</style>\n",
       "<table border=\"1\" class=\"dataframe\">\n",
       "  <thead>\n",
       "    <tr style=\"text-align: right;\">\n",
       "      <th></th>\n",
       "      <th>id</th>\n",
       "      <th>season</th>\n",
       "      <th>city</th>\n",
       "      <th>date</th>\n",
       "      <th>team1</th>\n",
       "      <th>team2</th>\n",
       "      <th>toss_winner</th>\n",
       "      <th>toss_decision</th>\n",
       "      <th>result</th>\n",
       "      <th>dl_applied</th>\n",
       "      <th>winner</th>\n",
       "      <th>win_by_runs</th>\n",
       "      <th>win_by_wickets</th>\n",
       "      <th>player_of_match</th>\n",
       "      <th>venue</th>\n",
       "      <th>umpire1</th>\n",
       "      <th>umpire2</th>\n",
       "      <th>umpire3</th>\n",
       "    </tr>\n",
       "  </thead>\n",
       "  <tbody>\n",
       "    <tr>\n",
       "      <th>0</th>\n",
       "      <td>1</td>\n",
       "      <td>2017</td>\n",
       "      <td>Hyderabad</td>\n",
       "      <td>2017-04-05</td>\n",
       "      <td>Sunrisers Hyderabad</td>\n",
       "      <td>Royal Challengers Bangalore</td>\n",
       "      <td>Royal Challengers Bangalore</td>\n",
       "      <td>field</td>\n",
       "      <td>normal</td>\n",
       "      <td>0</td>\n",
       "      <td>Sunrisers Hyderabad</td>\n",
       "      <td>35</td>\n",
       "      <td>0</td>\n",
       "      <td>Yuvraj Singh</td>\n",
       "      <td>Rajiv Gandhi International Stadium, Uppal</td>\n",
       "      <td>AY Dandekar</td>\n",
       "      <td>NJ Llong</td>\n",
       "      <td>NaN</td>\n",
       "    </tr>\n",
       "    <tr>\n",
       "      <th>1</th>\n",
       "      <td>2</td>\n",
       "      <td>2017</td>\n",
       "      <td>Pune</td>\n",
       "      <td>2017-04-06</td>\n",
       "      <td>Mumbai Indians</td>\n",
       "      <td>Rising Pune Supergiant</td>\n",
       "      <td>Rising Pune Supergiant</td>\n",
       "      <td>field</td>\n",
       "      <td>normal</td>\n",
       "      <td>0</td>\n",
       "      <td>Rising Pune Supergiant</td>\n",
       "      <td>0</td>\n",
       "      <td>7</td>\n",
       "      <td>SPD Smith</td>\n",
       "      <td>Maharashtra Cricket Association Stadium</td>\n",
       "      <td>A Nand Kishore</td>\n",
       "      <td>S Ravi</td>\n",
       "      <td>NaN</td>\n",
       "    </tr>\n",
       "    <tr>\n",
       "      <th>2</th>\n",
       "      <td>3</td>\n",
       "      <td>2017</td>\n",
       "      <td>Rajkot</td>\n",
       "      <td>2017-04-07</td>\n",
       "      <td>Gujarat Lions</td>\n",
       "      <td>Kolkata Knight Riders</td>\n",
       "      <td>Kolkata Knight Riders</td>\n",
       "      <td>field</td>\n",
       "      <td>normal</td>\n",
       "      <td>0</td>\n",
       "      <td>Kolkata Knight Riders</td>\n",
       "      <td>0</td>\n",
       "      <td>10</td>\n",
       "      <td>CA Lynn</td>\n",
       "      <td>Saurashtra Cricket Association Stadium</td>\n",
       "      <td>Nitin Menon</td>\n",
       "      <td>CK Nandan</td>\n",
       "      <td>NaN</td>\n",
       "    </tr>\n",
       "    <tr>\n",
       "      <th>3</th>\n",
       "      <td>4</td>\n",
       "      <td>2017</td>\n",
       "      <td>Indore</td>\n",
       "      <td>2017-04-08</td>\n",
       "      <td>Rising Pune Supergiant</td>\n",
       "      <td>Kings XI Punjab</td>\n",
       "      <td>Kings XI Punjab</td>\n",
       "      <td>field</td>\n",
       "      <td>normal</td>\n",
       "      <td>0</td>\n",
       "      <td>Kings XI Punjab</td>\n",
       "      <td>0</td>\n",
       "      <td>6</td>\n",
       "      <td>GJ Maxwell</td>\n",
       "      <td>Holkar Cricket Stadium</td>\n",
       "      <td>AK Chaudhary</td>\n",
       "      <td>C Shamshuddin</td>\n",
       "      <td>NaN</td>\n",
       "    </tr>\n",
       "    <tr>\n",
       "      <th>4</th>\n",
       "      <td>5</td>\n",
       "      <td>2017</td>\n",
       "      <td>Bangalore</td>\n",
       "      <td>2017-04-08</td>\n",
       "      <td>Royal Challengers Bangalore</td>\n",
       "      <td>Delhi Daredevils</td>\n",
       "      <td>Royal Challengers Bangalore</td>\n",
       "      <td>bat</td>\n",
       "      <td>normal</td>\n",
       "      <td>0</td>\n",
       "      <td>Royal Challengers Bangalore</td>\n",
       "      <td>15</td>\n",
       "      <td>0</td>\n",
       "      <td>KM Jadhav</td>\n",
       "      <td>M Chinnaswamy Stadium</td>\n",
       "      <td>NaN</td>\n",
       "      <td>NaN</td>\n",
       "      <td>NaN</td>\n",
       "    </tr>\n",
       "  </tbody>\n",
       "</table>\n",
       "</div>"
      ],
      "text/plain": [
       "   id  season       city        date                        team1  \\\n",
       "0   1    2017  Hyderabad  2017-04-05          Sunrisers Hyderabad   \n",
       "1   2    2017       Pune  2017-04-06               Mumbai Indians   \n",
       "2   3    2017     Rajkot  2017-04-07                Gujarat Lions   \n",
       "3   4    2017     Indore  2017-04-08       Rising Pune Supergiant   \n",
       "4   5    2017  Bangalore  2017-04-08  Royal Challengers Bangalore   \n",
       "\n",
       "                         team2                  toss_winner toss_decision  \\\n",
       "0  Royal Challengers Bangalore  Royal Challengers Bangalore         field   \n",
       "1       Rising Pune Supergiant       Rising Pune Supergiant         field   \n",
       "2        Kolkata Knight Riders        Kolkata Knight Riders         field   \n",
       "3              Kings XI Punjab              Kings XI Punjab         field   \n",
       "4             Delhi Daredevils  Royal Challengers Bangalore           bat   \n",
       "\n",
       "   result  dl_applied                       winner  win_by_runs  \\\n",
       "0  normal           0          Sunrisers Hyderabad           35   \n",
       "1  normal           0       Rising Pune Supergiant            0   \n",
       "2  normal           0        Kolkata Knight Riders            0   \n",
       "3  normal           0              Kings XI Punjab            0   \n",
       "4  normal           0  Royal Challengers Bangalore           15   \n",
       "\n",
       "   win_by_wickets player_of_match                                      venue  \\\n",
       "0               0    Yuvraj Singh  Rajiv Gandhi International Stadium, Uppal   \n",
       "1               7       SPD Smith    Maharashtra Cricket Association Stadium   \n",
       "2              10         CA Lynn     Saurashtra Cricket Association Stadium   \n",
       "3               6      GJ Maxwell                     Holkar Cricket Stadium   \n",
       "4               0       KM Jadhav                      M Chinnaswamy Stadium   \n",
       "\n",
       "          umpire1        umpire2 umpire3  \n",
       "0     AY Dandekar       NJ Llong     NaN  \n",
       "1  A Nand Kishore         S Ravi     NaN  \n",
       "2     Nitin Menon      CK Nandan     NaN  \n",
       "3    AK Chaudhary  C Shamshuddin     NaN  \n",
       "4             NaN            NaN     NaN  "
      ]
     },
     "execution_count": 3,
     "metadata": {},
     "output_type": "execute_result"
    }
   ],
   "source": [
    "matches.head()"
   ]
  },
  {
   "cell_type": "code",
   "execution_count": 4,
   "metadata": {
    "execution": {
     "iopub.execute_input": "2021-01-01T13:48:59.473230Z",
     "iopub.status.busy": "2021-01-01T13:48:59.466702Z",
     "iopub.status.idle": "2021-01-01T13:48:59.476508Z",
     "shell.execute_reply": "2021-01-01T13:48:59.477077Z"
    },
    "papermill": {
     "duration": 0.045325,
     "end_time": "2021-01-01T13:48:59.477232",
     "exception": false,
     "start_time": "2021-01-01T13:48:59.431907",
     "status": "completed"
    },
    "tags": []
   },
   "outputs": [
    {
     "name": "stdout",
     "output_type": "stream",
     "text": [
      "<class 'pandas.core.frame.DataFrame'>\n",
      "RangeIndex: 756 entries, 0 to 755\n",
      "Data columns (total 18 columns):\n",
      " #   Column           Non-Null Count  Dtype \n",
      "---  ------           --------------  ----- \n",
      " 0   id               756 non-null    int64 \n",
      " 1   season           756 non-null    int64 \n",
      " 2   city             749 non-null    object\n",
      " 3   date             756 non-null    object\n",
      " 4   team1            756 non-null    object\n",
      " 5   team2            756 non-null    object\n",
      " 6   toss_winner      756 non-null    object\n",
      " 7   toss_decision    756 non-null    object\n",
      " 8   result           756 non-null    object\n",
      " 9   dl_applied       756 non-null    int64 \n",
      " 10  winner           752 non-null    object\n",
      " 11  win_by_runs      756 non-null    int64 \n",
      " 12  win_by_wickets   756 non-null    int64 \n",
      " 13  player_of_match  752 non-null    object\n",
      " 14  venue            756 non-null    object\n",
      " 15  umpire1          754 non-null    object\n",
      " 16  umpire2          754 non-null    object\n",
      " 17  umpire3          119 non-null    object\n",
      "dtypes: int64(5), object(13)\n",
      "memory usage: 106.4+ KB\n"
     ]
    }
   ],
   "source": [
    "matches.info()"
   ]
  },
  {
   "cell_type": "markdown",
   "metadata": {
    "papermill": {
     "duration": 0.025503,
     "end_time": "2021-01-01T13:48:59.527507",
     "exception": false,
     "start_time": "2021-01-01T13:48:59.502004",
     "status": "completed"
    },
    "tags": []
   },
   "source": [
    "## *Dealing with Null values*"
   ]
  },
  {
   "cell_type": "code",
   "execution_count": 5,
   "metadata": {
    "execution": {
     "iopub.execute_input": "2021-01-01T13:48:59.586871Z",
     "iopub.status.busy": "2021-01-01T13:48:59.586187Z",
     "iopub.status.idle": "2021-01-01T13:48:59.590317Z",
     "shell.execute_reply": "2021-01-01T13:48:59.589791Z"
    },
    "papermill": {
     "duration": 0.038024,
     "end_time": "2021-01-01T13:48:59.590433",
     "exception": false,
     "start_time": "2021-01-01T13:48:59.552409",
     "status": "completed"
    },
    "tags": []
   },
   "outputs": [
    {
     "data": {
      "text/plain": [
       "umpire3            637\n",
       "city                 7\n",
       "player_of_match      4\n",
       "winner               4\n",
       "umpire1              2\n",
       "umpire2              2\n",
       "toss_winner          0\n",
       "season               0\n",
       "date                 0\n",
       "team1                0\n",
       "team2                0\n",
       "result               0\n",
       "toss_decision        0\n",
       "dl_applied           0\n",
       "win_by_runs          0\n",
       "win_by_wickets       0\n",
       "venue                0\n",
       "id                   0\n",
       "dtype: int64"
      ]
     },
     "execution_count": 5,
     "metadata": {},
     "output_type": "execute_result"
    }
   ],
   "source": [
    "matches.isnull().sum().sort_values(ascending = False)\n"
   ]
  },
  {
   "cell_type": "code",
   "execution_count": 6,
   "metadata": {
    "execution": {
     "iopub.execute_input": "2021-01-01T13:48:59.649543Z",
     "iopub.status.busy": "2021-01-01T13:48:59.648901Z",
     "iopub.status.idle": "2021-01-01T13:48:59.652292Z",
     "shell.execute_reply": "2021-01-01T13:48:59.651800Z"
    },
    "papermill": {
     "duration": 0.036385,
     "end_time": "2021-01-01T13:48:59.652413",
     "exception": false,
     "start_time": "2021-01-01T13:48:59.616028",
     "status": "completed"
    },
    "tags": []
   },
   "outputs": [],
   "source": [
    "## Umpire3 has 637 nan values and is not required hence we need to drop it.\n",
    "matches.drop(['umpire3'], inplace = True, axis = 1)"
   ]
  },
  {
   "cell_type": "code",
   "execution_count": 7,
   "metadata": {
    "execution": {
     "iopub.execute_input": "2021-01-01T13:48:59.712863Z",
     "iopub.status.busy": "2021-01-01T13:48:59.712176Z",
     "iopub.status.idle": "2021-01-01T13:48:59.716967Z",
     "shell.execute_reply": "2021-01-01T13:48:59.716334Z"
    },
    "papermill": {
     "duration": 0.039198,
     "end_time": "2021-01-01T13:48:59.717073",
     "exception": false,
     "start_time": "2021-01-01T13:48:59.677875",
     "status": "completed"
    },
    "tags": []
   },
   "outputs": [
    {
     "data": {
      "text/plain": [
       "city               7\n",
       "player_of_match    4\n",
       "winner             4\n",
       "umpire2            2\n",
       "umpire1            2\n",
       "toss_winner        0\n",
       "season             0\n",
       "date               0\n",
       "team1              0\n",
       "team2              0\n",
       "result             0\n",
       "toss_decision      0\n",
       "dl_applied         0\n",
       "win_by_runs        0\n",
       "win_by_wickets     0\n",
       "venue              0\n",
       "id                 0\n",
       "dtype: int64"
      ]
     },
     "execution_count": 7,
     "metadata": {},
     "output_type": "execute_result"
    }
   ],
   "source": [
    "matches.isnull().sum().sort_values(ascending = False)"
   ]
  },
  {
   "cell_type": "code",
   "execution_count": 8,
   "metadata": {
    "execution": {
     "iopub.execute_input": "2021-01-01T13:48:59.792330Z",
     "iopub.status.busy": "2021-01-01T13:48:59.791655Z",
     "iopub.status.idle": "2021-01-01T13:48:59.795827Z",
     "shell.execute_reply": "2021-01-01T13:48:59.795318Z"
    },
    "papermill": {
     "duration": 0.052341,
     "end_time": "2021-01-01T13:48:59.795942",
     "exception": false,
     "start_time": "2021-01-01T13:48:59.743601",
     "status": "completed"
    },
    "tags": []
   },
   "outputs": [
    {
     "data": {
      "text/html": [
       "<div>\n",
       "<style scoped>\n",
       "    .dataframe tbody tr th:only-of-type {\n",
       "        vertical-align: middle;\n",
       "    }\n",
       "\n",
       "    .dataframe tbody tr th {\n",
       "        vertical-align: top;\n",
       "    }\n",
       "\n",
       "    .dataframe thead th {\n",
       "        text-align: right;\n",
       "    }\n",
       "</style>\n",
       "<table border=\"1\" class=\"dataframe\">\n",
       "  <thead>\n",
       "    <tr style=\"text-align: right;\">\n",
       "      <th></th>\n",
       "      <th>id</th>\n",
       "      <th>season</th>\n",
       "      <th>city</th>\n",
       "      <th>date</th>\n",
       "      <th>team1</th>\n",
       "      <th>team2</th>\n",
       "      <th>toss_winner</th>\n",
       "      <th>toss_decision</th>\n",
       "      <th>result</th>\n",
       "      <th>dl_applied</th>\n",
       "      <th>winner</th>\n",
       "      <th>win_by_runs</th>\n",
       "      <th>win_by_wickets</th>\n",
       "      <th>player_of_match</th>\n",
       "      <th>venue</th>\n",
       "      <th>umpire1</th>\n",
       "      <th>umpire2</th>\n",
       "    </tr>\n",
       "  </thead>\n",
       "  <tbody>\n",
       "    <tr>\n",
       "      <th>461</th>\n",
       "      <td>462</td>\n",
       "      <td>2014</td>\n",
       "      <td>NaN</td>\n",
       "      <td>2014-04-19</td>\n",
       "      <td>Mumbai Indians</td>\n",
       "      <td>Royal Challengers Bangalore</td>\n",
       "      <td>Royal Challengers Bangalore</td>\n",
       "      <td>field</td>\n",
       "      <td>normal</td>\n",
       "      <td>0</td>\n",
       "      <td>Royal Challengers Bangalore</td>\n",
       "      <td>0</td>\n",
       "      <td>7</td>\n",
       "      <td>PA Patel</td>\n",
       "      <td>Dubai International Cricket Stadium</td>\n",
       "      <td>Aleem Dar</td>\n",
       "      <td>AK Chaudhary</td>\n",
       "    </tr>\n",
       "    <tr>\n",
       "      <th>462</th>\n",
       "      <td>463</td>\n",
       "      <td>2014</td>\n",
       "      <td>NaN</td>\n",
       "      <td>2014-04-19</td>\n",
       "      <td>Kolkata Knight Riders</td>\n",
       "      <td>Delhi Daredevils</td>\n",
       "      <td>Kolkata Knight Riders</td>\n",
       "      <td>bat</td>\n",
       "      <td>normal</td>\n",
       "      <td>0</td>\n",
       "      <td>Delhi Daredevils</td>\n",
       "      <td>0</td>\n",
       "      <td>4</td>\n",
       "      <td>JP Duminy</td>\n",
       "      <td>Dubai International Cricket Stadium</td>\n",
       "      <td>Aleem Dar</td>\n",
       "      <td>VA Kulkarni</td>\n",
       "    </tr>\n",
       "    <tr>\n",
       "      <th>466</th>\n",
       "      <td>467</td>\n",
       "      <td>2014</td>\n",
       "      <td>NaN</td>\n",
       "      <td>2014-04-23</td>\n",
       "      <td>Chennai Super Kings</td>\n",
       "      <td>Rajasthan Royals</td>\n",
       "      <td>Rajasthan Royals</td>\n",
       "      <td>field</td>\n",
       "      <td>normal</td>\n",
       "      <td>0</td>\n",
       "      <td>Chennai Super Kings</td>\n",
       "      <td>7</td>\n",
       "      <td>0</td>\n",
       "      <td>RA Jadeja</td>\n",
       "      <td>Dubai International Cricket Stadium</td>\n",
       "      <td>HDPK Dharmasena</td>\n",
       "      <td>RK Illingworth</td>\n",
       "    </tr>\n",
       "    <tr>\n",
       "      <th>468</th>\n",
       "      <td>469</td>\n",
       "      <td>2014</td>\n",
       "      <td>NaN</td>\n",
       "      <td>2014-04-25</td>\n",
       "      <td>Sunrisers Hyderabad</td>\n",
       "      <td>Delhi Daredevils</td>\n",
       "      <td>Sunrisers Hyderabad</td>\n",
       "      <td>bat</td>\n",
       "      <td>normal</td>\n",
       "      <td>0</td>\n",
       "      <td>Sunrisers Hyderabad</td>\n",
       "      <td>4</td>\n",
       "      <td>0</td>\n",
       "      <td>AJ Finch</td>\n",
       "      <td>Dubai International Cricket Stadium</td>\n",
       "      <td>M Erasmus</td>\n",
       "      <td>S Ravi</td>\n",
       "    </tr>\n",
       "    <tr>\n",
       "      <th>469</th>\n",
       "      <td>470</td>\n",
       "      <td>2014</td>\n",
       "      <td>NaN</td>\n",
       "      <td>2014-04-25</td>\n",
       "      <td>Mumbai Indians</td>\n",
       "      <td>Chennai Super Kings</td>\n",
       "      <td>Mumbai Indians</td>\n",
       "      <td>bat</td>\n",
       "      <td>normal</td>\n",
       "      <td>0</td>\n",
       "      <td>Chennai Super Kings</td>\n",
       "      <td>0</td>\n",
       "      <td>7</td>\n",
       "      <td>MM Sharma</td>\n",
       "      <td>Dubai International Cricket Stadium</td>\n",
       "      <td>BF Bowden</td>\n",
       "      <td>M Erasmus</td>\n",
       "    </tr>\n",
       "    <tr>\n",
       "      <th>474</th>\n",
       "      <td>475</td>\n",
       "      <td>2014</td>\n",
       "      <td>NaN</td>\n",
       "      <td>2014-04-28</td>\n",
       "      <td>Royal Challengers Bangalore</td>\n",
       "      <td>Kings XI Punjab</td>\n",
       "      <td>Kings XI Punjab</td>\n",
       "      <td>field</td>\n",
       "      <td>normal</td>\n",
       "      <td>0</td>\n",
       "      <td>Kings XI Punjab</td>\n",
       "      <td>0</td>\n",
       "      <td>5</td>\n",
       "      <td>Sandeep Sharma</td>\n",
       "      <td>Dubai International Cricket Stadium</td>\n",
       "      <td>BF Bowden</td>\n",
       "      <td>S Ravi</td>\n",
       "    </tr>\n",
       "    <tr>\n",
       "      <th>476</th>\n",
       "      <td>477</td>\n",
       "      <td>2014</td>\n",
       "      <td>NaN</td>\n",
       "      <td>2014-04-30</td>\n",
       "      <td>Sunrisers Hyderabad</td>\n",
       "      <td>Mumbai Indians</td>\n",
       "      <td>Mumbai Indians</td>\n",
       "      <td>field</td>\n",
       "      <td>normal</td>\n",
       "      <td>0</td>\n",
       "      <td>Sunrisers Hyderabad</td>\n",
       "      <td>15</td>\n",
       "      <td>0</td>\n",
       "      <td>B Kumar</td>\n",
       "      <td>Dubai International Cricket Stadium</td>\n",
       "      <td>HDPK Dharmasena</td>\n",
       "      <td>M Erasmus</td>\n",
       "    </tr>\n",
       "  </tbody>\n",
       "</table>\n",
       "</div>"
      ],
      "text/plain": [
       "      id  season city        date                        team1  \\\n",
       "461  462    2014  NaN  2014-04-19               Mumbai Indians   \n",
       "462  463    2014  NaN  2014-04-19        Kolkata Knight Riders   \n",
       "466  467    2014  NaN  2014-04-23          Chennai Super Kings   \n",
       "468  469    2014  NaN  2014-04-25          Sunrisers Hyderabad   \n",
       "469  470    2014  NaN  2014-04-25               Mumbai Indians   \n",
       "474  475    2014  NaN  2014-04-28  Royal Challengers Bangalore   \n",
       "476  477    2014  NaN  2014-04-30          Sunrisers Hyderabad   \n",
       "\n",
       "                           team2                  toss_winner toss_decision  \\\n",
       "461  Royal Challengers Bangalore  Royal Challengers Bangalore         field   \n",
       "462             Delhi Daredevils        Kolkata Knight Riders           bat   \n",
       "466             Rajasthan Royals             Rajasthan Royals         field   \n",
       "468             Delhi Daredevils          Sunrisers Hyderabad           bat   \n",
       "469          Chennai Super Kings               Mumbai Indians           bat   \n",
       "474              Kings XI Punjab              Kings XI Punjab         field   \n",
       "476               Mumbai Indians               Mumbai Indians         field   \n",
       "\n",
       "     result  dl_applied                       winner  win_by_runs  \\\n",
       "461  normal           0  Royal Challengers Bangalore            0   \n",
       "462  normal           0             Delhi Daredevils            0   \n",
       "466  normal           0          Chennai Super Kings            7   \n",
       "468  normal           0          Sunrisers Hyderabad            4   \n",
       "469  normal           0          Chennai Super Kings            0   \n",
       "474  normal           0              Kings XI Punjab            0   \n",
       "476  normal           0          Sunrisers Hyderabad           15   \n",
       "\n",
       "     win_by_wickets player_of_match                                venue  \\\n",
       "461               7        PA Patel  Dubai International Cricket Stadium   \n",
       "462               4       JP Duminy  Dubai International Cricket Stadium   \n",
       "466               0       RA Jadeja  Dubai International Cricket Stadium   \n",
       "468               0        AJ Finch  Dubai International Cricket Stadium   \n",
       "469               7       MM Sharma  Dubai International Cricket Stadium   \n",
       "474               5  Sandeep Sharma  Dubai International Cricket Stadium   \n",
       "476               0         B Kumar  Dubai International Cricket Stadium   \n",
       "\n",
       "             umpire1         umpire2  \n",
       "461        Aleem Dar    AK Chaudhary  \n",
       "462        Aleem Dar     VA Kulkarni  \n",
       "466  HDPK Dharmasena  RK Illingworth  \n",
       "468        M Erasmus          S Ravi  \n",
       "469        BF Bowden       M Erasmus  \n",
       "474        BF Bowden          S Ravi  \n",
       "476  HDPK Dharmasena       M Erasmus  "
      ]
     },
     "execution_count": 8,
     "metadata": {},
     "output_type": "execute_result"
    }
   ],
   "source": [
    "matches[pd.isnull(matches['city'])]"
   ]
  },
  {
   "cell_type": "code",
   "execution_count": 9,
   "metadata": {
    "execution": {
     "iopub.execute_input": "2021-01-01T13:48:59.853400Z",
     "iopub.status.busy": "2021-01-01T13:48:59.852697Z",
     "iopub.status.idle": "2021-01-01T13:48:59.857245Z",
     "shell.execute_reply": "2021-01-01T13:48:59.857827Z"
    },
    "papermill": {
     "duration": 0.035059,
     "end_time": "2021-01-01T13:48:59.857967",
     "exception": false,
     "start_time": "2021-01-01T13:48:59.822908",
     "status": "completed"
    },
    "tags": []
   },
   "outputs": [],
   "source": [
    "## By venue it is clear that this null values in city column is of DUBAI hence replacing it with same.\n",
    "matches['city'] = matches['city'].fillna(\"DUBAI\")"
   ]
  },
  {
   "cell_type": "code",
   "execution_count": 10,
   "metadata": {
    "execution": {
     "iopub.execute_input": "2021-01-01T13:48:59.916296Z",
     "iopub.status.busy": "2021-01-01T13:48:59.915603Z",
     "iopub.status.idle": "2021-01-01T13:48:59.925359Z",
     "shell.execute_reply": "2021-01-01T13:48:59.924737Z"
    },
    "papermill": {
     "duration": 0.039617,
     "end_time": "2021-01-01T13:48:59.925464",
     "exception": false,
     "start_time": "2021-01-01T13:48:59.885847",
     "status": "completed"
    },
    "tags": []
   },
   "outputs": [
    {
     "data": {
      "text/plain": [
       "player_of_match    4\n",
       "winner             4\n",
       "umpire2            2\n",
       "umpire1            2\n",
       "toss_winner        0\n",
       "season             0\n",
       "city               0\n",
       "date               0\n",
       "team1              0\n",
       "team2              0\n",
       "result             0\n",
       "toss_decision      0\n",
       "dl_applied         0\n",
       "win_by_runs        0\n",
       "win_by_wickets     0\n",
       "venue              0\n",
       "id                 0\n",
       "dtype: int64"
      ]
     },
     "execution_count": 10,
     "metadata": {},
     "output_type": "execute_result"
    }
   ],
   "source": [
    "matches.isnull().sum().sort_values(ascending = False)"
   ]
  },
  {
   "cell_type": "code",
   "execution_count": 11,
   "metadata": {
    "execution": {
     "iopub.execute_input": "2021-01-01T13:49:00.002409Z",
     "iopub.status.busy": "2021-01-01T13:49:00.001711Z",
     "iopub.status.idle": "2021-01-01T13:49:00.005018Z",
     "shell.execute_reply": "2021-01-01T13:49:00.005662Z"
    },
    "papermill": {
     "duration": 0.052598,
     "end_time": "2021-01-01T13:49:00.005819",
     "exception": false,
     "start_time": "2021-01-01T13:48:59.953221",
     "status": "completed"
    },
    "tags": []
   },
   "outputs": [
    {
     "data": {
      "text/html": [
       "<div>\n",
       "<style scoped>\n",
       "    .dataframe tbody tr th:only-of-type {\n",
       "        vertical-align: middle;\n",
       "    }\n",
       "\n",
       "    .dataframe tbody tr th {\n",
       "        vertical-align: top;\n",
       "    }\n",
       "\n",
       "    .dataframe thead th {\n",
       "        text-align: right;\n",
       "    }\n",
       "</style>\n",
       "<table border=\"1\" class=\"dataframe\">\n",
       "  <thead>\n",
       "    <tr style=\"text-align: right;\">\n",
       "      <th></th>\n",
       "      <th>id</th>\n",
       "      <th>season</th>\n",
       "      <th>city</th>\n",
       "      <th>date</th>\n",
       "      <th>team1</th>\n",
       "      <th>team2</th>\n",
       "      <th>toss_winner</th>\n",
       "      <th>toss_decision</th>\n",
       "      <th>result</th>\n",
       "      <th>dl_applied</th>\n",
       "      <th>winner</th>\n",
       "      <th>win_by_runs</th>\n",
       "      <th>win_by_wickets</th>\n",
       "      <th>player_of_match</th>\n",
       "      <th>venue</th>\n",
       "      <th>umpire1</th>\n",
       "      <th>umpire2</th>\n",
       "    </tr>\n",
       "  </thead>\n",
       "  <tbody>\n",
       "    <tr>\n",
       "      <th>300</th>\n",
       "      <td>301</td>\n",
       "      <td>2011</td>\n",
       "      <td>Delhi</td>\n",
       "      <td>2011-05-21</td>\n",
       "      <td>Delhi Daredevils</td>\n",
       "      <td>Pune Warriors</td>\n",
       "      <td>Delhi Daredevils</td>\n",
       "      <td>bat</td>\n",
       "      <td>no result</td>\n",
       "      <td>0</td>\n",
       "      <td>NaN</td>\n",
       "      <td>0</td>\n",
       "      <td>0</td>\n",
       "      <td>NaN</td>\n",
       "      <td>Feroz Shah Kotla</td>\n",
       "      <td>SS Hazare</td>\n",
       "      <td>RJ Tucker</td>\n",
       "    </tr>\n",
       "    <tr>\n",
       "      <th>545</th>\n",
       "      <td>546</td>\n",
       "      <td>2015</td>\n",
       "      <td>Bangalore</td>\n",
       "      <td>2015-04-29</td>\n",
       "      <td>Royal Challengers Bangalore</td>\n",
       "      <td>Rajasthan Royals</td>\n",
       "      <td>Rajasthan Royals</td>\n",
       "      <td>field</td>\n",
       "      <td>no result</td>\n",
       "      <td>0</td>\n",
       "      <td>NaN</td>\n",
       "      <td>0</td>\n",
       "      <td>0</td>\n",
       "      <td>NaN</td>\n",
       "      <td>M Chinnaswamy Stadium</td>\n",
       "      <td>JD Cloete</td>\n",
       "      <td>PG Pathak</td>\n",
       "    </tr>\n",
       "    <tr>\n",
       "      <th>570</th>\n",
       "      <td>571</td>\n",
       "      <td>2015</td>\n",
       "      <td>Bangalore</td>\n",
       "      <td>2015-05-17</td>\n",
       "      <td>Delhi Daredevils</td>\n",
       "      <td>Royal Challengers Bangalore</td>\n",
       "      <td>Royal Challengers Bangalore</td>\n",
       "      <td>field</td>\n",
       "      <td>no result</td>\n",
       "      <td>0</td>\n",
       "      <td>NaN</td>\n",
       "      <td>0</td>\n",
       "      <td>0</td>\n",
       "      <td>NaN</td>\n",
       "      <td>M Chinnaswamy Stadium</td>\n",
       "      <td>HDPK Dharmasena</td>\n",
       "      <td>K Srinivasan</td>\n",
       "    </tr>\n",
       "    <tr>\n",
       "      <th>744</th>\n",
       "      <td>11340</td>\n",
       "      <td>2019</td>\n",
       "      <td>Bengaluru</td>\n",
       "      <td>30/04/19</td>\n",
       "      <td>Royal Challengers Bangalore</td>\n",
       "      <td>Rajasthan Royals</td>\n",
       "      <td>Rajasthan Royals</td>\n",
       "      <td>field</td>\n",
       "      <td>no result</td>\n",
       "      <td>0</td>\n",
       "      <td>NaN</td>\n",
       "      <td>0</td>\n",
       "      <td>0</td>\n",
       "      <td>NaN</td>\n",
       "      <td>M. Chinnaswamy Stadium</td>\n",
       "      <td>Nigel Llong</td>\n",
       "      <td>Ulhas Gandhe</td>\n",
       "    </tr>\n",
       "  </tbody>\n",
       "</table>\n",
       "</div>"
      ],
      "text/plain": [
       "        id  season       city        date                        team1  \\\n",
       "300    301    2011      Delhi  2011-05-21             Delhi Daredevils   \n",
       "545    546    2015  Bangalore  2015-04-29  Royal Challengers Bangalore   \n",
       "570    571    2015  Bangalore  2015-05-17             Delhi Daredevils   \n",
       "744  11340    2019  Bengaluru    30/04/19  Royal Challengers Bangalore   \n",
       "\n",
       "                           team2                  toss_winner toss_decision  \\\n",
       "300                Pune Warriors             Delhi Daredevils           bat   \n",
       "545             Rajasthan Royals             Rajasthan Royals         field   \n",
       "570  Royal Challengers Bangalore  Royal Challengers Bangalore         field   \n",
       "744             Rajasthan Royals             Rajasthan Royals         field   \n",
       "\n",
       "        result  dl_applied winner  win_by_runs  win_by_wickets  \\\n",
       "300  no result           0    NaN            0               0   \n",
       "545  no result           0    NaN            0               0   \n",
       "570  no result           0    NaN            0               0   \n",
       "744  no result           0    NaN            0               0   \n",
       "\n",
       "    player_of_match                   venue          umpire1       umpire2  \n",
       "300             NaN        Feroz Shah Kotla        SS Hazare     RJ Tucker  \n",
       "545             NaN   M Chinnaswamy Stadium        JD Cloete     PG Pathak  \n",
       "570             NaN   M Chinnaswamy Stadium  HDPK Dharmasena  K Srinivasan  \n",
       "744             NaN  M. Chinnaswamy Stadium      Nigel Llong  Ulhas Gandhe  "
      ]
     },
     "execution_count": 11,
     "metadata": {},
     "output_type": "execute_result"
    }
   ],
   "source": [
    "matches[pd.isnull(matches['player_of_match'])]"
   ]
  },
  {
   "cell_type": "code",
   "execution_count": 12,
   "metadata": {
    "execution": {
     "iopub.execute_input": "2021-01-01T13:49:00.069039Z",
     "iopub.status.busy": "2021-01-01T13:49:00.068048Z",
     "iopub.status.idle": "2021-01-01T13:49:00.073013Z",
     "shell.execute_reply": "2021-01-01T13:49:00.073584Z"
    },
    "papermill": {
     "duration": 0.037648,
     "end_time": "2021-01-01T13:49:00.073743",
     "exception": false,
     "start_time": "2021-01-01T13:49:00.036095",
     "status": "completed"
    },
    "tags": []
   },
   "outputs": [],
   "source": [
    "## For no result no player of match has been assigned hence replacing it with none\n",
    "matches['player_of_match'] = matches['player_of_match'].fillna(\"None\")"
   ]
  },
  {
   "cell_type": "code",
   "execution_count": 13,
   "metadata": {
    "execution": {
     "iopub.execute_input": "2021-01-01T13:49:00.134399Z",
     "iopub.status.busy": "2021-01-01T13:49:00.133404Z",
     "iopub.status.idle": "2021-01-01T13:49:00.143281Z",
     "shell.execute_reply": "2021-01-01T13:49:00.143863Z"
    },
    "papermill": {
     "duration": 0.041999,
     "end_time": "2021-01-01T13:49:00.144007",
     "exception": false,
     "start_time": "2021-01-01T13:49:00.102008",
     "status": "completed"
    },
    "tags": []
   },
   "outputs": [
    {
     "data": {
      "text/plain": [
       "winner             4\n",
       "umpire2            2\n",
       "umpire1            2\n",
       "toss_winner        0\n",
       "season             0\n",
       "city               0\n",
       "date               0\n",
       "team1              0\n",
       "team2              0\n",
       "result             0\n",
       "toss_decision      0\n",
       "dl_applied         0\n",
       "win_by_runs        0\n",
       "win_by_wickets     0\n",
       "player_of_match    0\n",
       "venue              0\n",
       "id                 0\n",
       "dtype: int64"
      ]
     },
     "execution_count": 13,
     "metadata": {},
     "output_type": "execute_result"
    }
   ],
   "source": [
    "matches.isnull().sum().sort_values(ascending = False)"
   ]
  },
  {
   "cell_type": "code",
   "execution_count": 14,
   "metadata": {
    "execution": {
     "iopub.execute_input": "2021-01-01T13:49:00.205522Z",
     "iopub.status.busy": "2021-01-01T13:49:00.204513Z",
     "iopub.status.idle": "2021-01-01T13:49:00.210698Z",
     "shell.execute_reply": "2021-01-01T13:49:00.210196Z"
    },
    "papermill": {
     "duration": 0.03794,
     "end_time": "2021-01-01T13:49:00.210844",
     "exception": false,
     "start_time": "2021-01-01T13:49:00.172904",
     "status": "completed"
    },
    "tags": []
   },
   "outputs": [],
   "source": [
    "## Replacing the null values in winner column with draw.\n",
    "matches['winner'] = matches['winner'].fillna(\"DRAW\")"
   ]
  },
  {
   "cell_type": "code",
   "execution_count": 15,
   "metadata": {
    "execution": {
     "iopub.execute_input": "2021-01-01T13:49:00.278395Z",
     "iopub.status.busy": "2021-01-01T13:49:00.277434Z",
     "iopub.status.idle": "2021-01-01T13:49:00.281115Z",
     "shell.execute_reply": "2021-01-01T13:49:00.281707Z"
    },
    "papermill": {
     "duration": 0.042324,
     "end_time": "2021-01-01T13:49:00.281884",
     "exception": false,
     "start_time": "2021-01-01T13:49:00.239560",
     "status": "completed"
    },
    "tags": []
   },
   "outputs": [
    {
     "data": {
      "text/plain": [
       "umpire2            2\n",
       "umpire1            2\n",
       "toss_decision      0\n",
       "season             0\n",
       "city               0\n",
       "date               0\n",
       "team1              0\n",
       "team2              0\n",
       "toss_winner        0\n",
       "result             0\n",
       "dl_applied         0\n",
       "winner             0\n",
       "win_by_runs        0\n",
       "win_by_wickets     0\n",
       "player_of_match    0\n",
       "venue              0\n",
       "id                 0\n",
       "dtype: int64"
      ]
     },
     "execution_count": 15,
     "metadata": {},
     "output_type": "execute_result"
    }
   ],
   "source": [
    "matches.isnull().sum().sort_values(ascending = False)"
   ]
  },
  {
   "cell_type": "code",
   "execution_count": 16,
   "metadata": {
    "execution": {
     "iopub.execute_input": "2021-01-01T13:49:00.345341Z",
     "iopub.status.busy": "2021-01-01T13:49:00.344387Z",
     "iopub.status.idle": "2021-01-01T13:49:00.356778Z",
     "shell.execute_reply": "2021-01-01T13:49:00.355920Z"
    },
    "papermill": {
     "duration": 0.04581,
     "end_time": "2021-01-01T13:49:00.356950",
     "exception": false,
     "start_time": "2021-01-01T13:49:00.311140",
     "status": "completed"
    },
    "tags": []
   },
   "outputs": [
    {
     "data": {
      "text/plain": [
       "HDPK Dharmasena    73\n",
       "Asad Rauf          51\n",
       "S Ravi             49\n",
       "AK Chaudhary       43\n",
       "Aleem Dar          38\n",
       "                   ..\n",
       "SJA Taufel          1\n",
       "Sundaram Ravi       1\n",
       "A Nanda Kishore     1\n",
       "Ulhas Gandhe        1\n",
       "SL Shastri          1\n",
       "Name: umpire1, Length: 61, dtype: int64"
      ]
     },
     "execution_count": 16,
     "metadata": {},
     "output_type": "execute_result"
    }
   ],
   "source": [
    "#Fix null for column - umpire1\n",
    "matches['umpire1'].value_counts() "
   ]
  },
  {
   "cell_type": "code",
   "execution_count": 17,
   "metadata": {
    "execution": {
     "iopub.execute_input": "2021-01-01T13:49:00.425765Z",
     "iopub.status.busy": "2021-01-01T13:49:00.425070Z",
     "iopub.status.idle": "2021-01-01T13:49:00.428829Z",
     "shell.execute_reply": "2021-01-01T13:49:00.428097Z"
    },
    "papermill": {
     "duration": 0.04055,
     "end_time": "2021-01-01T13:49:00.428975",
     "exception": false,
     "start_time": "2021-01-01T13:49:00.388425",
     "status": "completed"
    },
    "tags": []
   },
   "outputs": [],
   "source": [
    "## Replacing umpire1 nan values with highest frequency umpire\n",
    "matches['umpire1'] = matches['umpire1'].fillna('HDPK Dharmasena')"
   ]
  },
  {
   "cell_type": "code",
   "execution_count": 18,
   "metadata": {
    "execution": {
     "iopub.execute_input": "2021-01-01T13:49:00.498618Z",
     "iopub.status.busy": "2021-01-01T13:49:00.497977Z",
     "iopub.status.idle": "2021-01-01T13:49:00.500880Z",
     "shell.execute_reply": "2021-01-01T13:49:00.501491Z"
    },
    "papermill": {
     "duration": 0.042493,
     "end_time": "2021-01-01T13:49:00.501633",
     "exception": false,
     "start_time": "2021-01-01T13:49:00.459140",
     "status": "completed"
    },
    "tags": []
   },
   "outputs": [
    {
     "data": {
      "text/plain": [
       "umpire2            2\n",
       "toss_decision      0\n",
       "season             0\n",
       "city               0\n",
       "date               0\n",
       "team1              0\n",
       "team2              0\n",
       "toss_winner        0\n",
       "result             0\n",
       "umpire1            0\n",
       "dl_applied         0\n",
       "winner             0\n",
       "win_by_runs        0\n",
       "win_by_wickets     0\n",
       "player_of_match    0\n",
       "venue              0\n",
       "id                 0\n",
       "dtype: int64"
      ]
     },
     "execution_count": 18,
     "metadata": {},
     "output_type": "execute_result"
    }
   ],
   "source": [
    "matches.isnull().sum().sort_values(ascending = False)"
   ]
  },
  {
   "cell_type": "code",
   "execution_count": 19,
   "metadata": {
    "execution": {
     "iopub.execute_input": "2021-01-01T13:49:00.573179Z",
     "iopub.status.busy": "2021-01-01T13:49:00.572465Z",
     "iopub.status.idle": "2021-01-01T13:49:00.577011Z",
     "shell.execute_reply": "2021-01-01T13:49:00.576470Z"
    },
    "papermill": {
     "duration": 0.043628,
     "end_time": "2021-01-01T13:49:00.577167",
     "exception": false,
     "start_time": "2021-01-01T13:49:00.533539",
     "status": "completed"
    },
    "tags": []
   },
   "outputs": [
    {
     "data": {
      "text/plain": [
       "C Shamshuddin    57\n",
       "S Ravi           57\n",
       "SJA Taufel       54\n",
       "RJ Tucker        38\n",
       "CK Nandan        36\n",
       "                 ..\n",
       "JD Cloete         1\n",
       "Subroto Das       1\n",
       "Ian Gould         1\n",
       "SD Fry            1\n",
       "Nand Kishore      1\n",
       "Name: umpire2, Length: 65, dtype: int64"
      ]
     },
     "execution_count": 19,
     "metadata": {},
     "output_type": "execute_result"
    }
   ],
   "source": [
    "matches['umpire2'].value_counts() "
   ]
  },
  {
   "cell_type": "code",
   "execution_count": 20,
   "metadata": {
    "execution": {
     "iopub.execute_input": "2021-01-01T13:49:00.646394Z",
     "iopub.status.busy": "2021-01-01T13:49:00.645432Z",
     "iopub.status.idle": "2021-01-01T13:49:00.649088Z",
     "shell.execute_reply": "2021-01-01T13:49:00.648510Z"
    },
    "papermill": {
     "duration": 0.040619,
     "end_time": "2021-01-01T13:49:00.649207",
     "exception": false,
     "start_time": "2021-01-01T13:49:00.608588",
     "status": "completed"
    },
    "tags": []
   },
   "outputs": [],
   "source": [
    "## Replacing umpire2 nan values with highest frequency umpire\n",
    "matches['umpire2'] = matches['umpire2'].fillna('SJA Taufel')"
   ]
  },
  {
   "cell_type": "code",
   "execution_count": 21,
   "metadata": {
    "execution": {
     "iopub.execute_input": "2021-01-01T13:49:00.722128Z",
     "iopub.status.busy": "2021-01-01T13:49:00.721348Z",
     "iopub.status.idle": "2021-01-01T13:49:00.725203Z",
     "shell.execute_reply": "2021-01-01T13:49:00.724539Z"
    },
    "papermill": {
     "duration": 0.044915,
     "end_time": "2021-01-01T13:49:00.725312",
     "exception": false,
     "start_time": "2021-01-01T13:49:00.680397",
     "status": "completed"
    },
    "tags": []
   },
   "outputs": [
    {
     "data": {
      "text/plain": [
       "umpire2            0\n",
       "toss_decision      0\n",
       "season             0\n",
       "city               0\n",
       "date               0\n",
       "team1              0\n",
       "team2              0\n",
       "toss_winner        0\n",
       "result             0\n",
       "umpire1            0\n",
       "dl_applied         0\n",
       "winner             0\n",
       "win_by_runs        0\n",
       "win_by_wickets     0\n",
       "player_of_match    0\n",
       "venue              0\n",
       "id                 0\n",
       "dtype: int64"
      ]
     },
     "execution_count": 21,
     "metadata": {},
     "output_type": "execute_result"
    }
   ],
   "source": [
    "matches.isnull().sum().sort_values(ascending = False)"
   ]
  },
  {
   "cell_type": "code",
   "execution_count": 22,
   "metadata": {
    "execution": {
     "iopub.execute_input": "2021-01-01T13:49:00.798042Z",
     "iopub.status.busy": "2021-01-01T13:49:00.797199Z",
     "iopub.status.idle": "2021-01-01T13:49:00.829188Z",
     "shell.execute_reply": "2021-01-01T13:49:00.829747Z"
    },
    "papermill": {
     "duration": 0.072678,
     "end_time": "2021-01-01T13:49:00.829895",
     "exception": false,
     "start_time": "2021-01-01T13:49:00.757217",
     "status": "completed"
    },
    "tags": []
   },
   "outputs": [
    {
     "data": {
      "text/plain": [
       "Index(['Chennai Super Kings', 'Deccan Chargers', 'Delhi Capitals',\n",
       "       'Delhi Daredevils', 'Gujarat Lions', 'Kings XI Punjab',\n",
       "       'Kochi Tuskers Kerala', 'Kolkata Knight Riders', 'Mumbai Indians',\n",
       "       'Pune Warriors', 'Rajasthan Royals', 'Royal Challengers Bangalore',\n",
       "       'Sunrisers Hyderabad'],\n",
       "      dtype='object')"
      ]
     },
     "execution_count": 22,
     "metadata": {},
     "output_type": "execute_result"
    }
   ],
   "source": [
    "## Drop duplicates from team1 & team2 columns\n",
    "(matches['team2'].value_counts() + matches['team1'].value_counts()).drop_duplicates().index[::1]"
   ]
  },
  {
   "cell_type": "code",
   "execution_count": 23,
   "metadata": {
    "execution": {
     "iopub.execute_input": "2021-01-01T13:49:00.943382Z",
     "iopub.status.busy": "2021-01-01T13:49:00.942647Z",
     "iopub.status.idle": "2021-01-01T13:49:00.946049Z",
     "shell.execute_reply": "2021-01-01T13:49:00.945443Z"
    },
    "papermill": {
     "duration": 0.083546,
     "end_time": "2021-01-01T13:49:00.946165",
     "exception": false,
     "start_time": "2021-01-01T13:49:00.862619",
     "status": "completed"
    },
    "tags": []
   },
   "outputs": [],
   "source": [
    "## Replace Delhi Daredevils with Delhi capitals as the franchise is same\n",
    "matches.team1.replace({'Delhi Daredevils' : 'Delhi Capitals'},regex=True,inplace=True)\n",
    "matches.team2.replace({'Delhi Daredevils' : 'Delhi Capitals'},regex=True,inplace=True)\n",
    "matches.toss_winner.replace({'Delhi Daredevils' : 'Delhi Capitals'},regex=True,inplace=True)\n",
    "matches.winner.replace({'Delhi Daredevils' : 'Delhi Capitals'},regex=True,inplace=True)\n",
    "\n",
    "## The following dataset contains multiple name for RPS team so changing all of them to a single distinct name\n",
    "\n",
    "matches.team1.replace({'Rising Pune Supergiant' : 'Rising Pune Supergiants'},regex=True,inplace=True)\n",
    "matches.team2.replace({'Rising Pune Supergiant' : 'Rising Pune Supergiants'},regex=True,inplace=True)\n",
    "matches.toss_winner.replace({'Rising Pune Supergiant' : 'Rising Pune Supergiants'},regex=True,inplace=True)\n",
    "matches.winner.replace({'Rising Pune Supergiant' : 'Rising Pune Supergiants'},regex=True,inplace=True)\n",
    "\n",
    "matches.team1.replace({'Rising Pune Supergiantss' : 'Rising Pune Supergiants'},regex=True,inplace=True)\n",
    "matches.team2.replace({'Rising Pune Supergiantss' : 'Rising Pune Supergiants'},regex=True,inplace=True)\n",
    "matches.toss_winner.replace({'Rising Pune Supergiantss' : 'Rising Pune Supergiants'},regex=True,inplace=True)\n",
    "matches.winner.replace({'Rising Pune Supergiantss' : 'Rising Pune Supergiants'},regex=True,inplace=True)"
   ]
  },
  {
   "cell_type": "code",
   "execution_count": 24,
   "metadata": {
    "execution": {
     "iopub.execute_input": "2021-01-01T13:49:01.033238Z",
     "iopub.status.busy": "2021-01-01T13:49:01.032528Z",
     "iopub.status.idle": "2021-01-01T13:49:01.037439Z",
     "shell.execute_reply": "2021-01-01T13:49:01.036905Z"
    },
    "papermill": {
     "duration": 0.058726,
     "end_time": "2021-01-01T13:49:01.037549",
     "exception": false,
     "start_time": "2021-01-01T13:49:00.978823",
     "status": "completed"
    },
    "tags": []
   },
   "outputs": [
    {
     "data": {
      "text/html": [
       "<div>\n",
       "<style scoped>\n",
       "    .dataframe tbody tr th:only-of-type {\n",
       "        vertical-align: middle;\n",
       "    }\n",
       "\n",
       "    .dataframe tbody tr th {\n",
       "        vertical-align: top;\n",
       "    }\n",
       "\n",
       "    .dataframe thead th {\n",
       "        text-align: right;\n",
       "    }\n",
       "</style>\n",
       "<table border=\"1\" class=\"dataframe\">\n",
       "  <thead>\n",
       "    <tr style=\"text-align: right;\">\n",
       "      <th></th>\n",
       "      <th>id</th>\n",
       "      <th>season</th>\n",
       "      <th>city</th>\n",
       "      <th>date</th>\n",
       "      <th>team1</th>\n",
       "      <th>team2</th>\n",
       "      <th>toss_winner</th>\n",
       "      <th>toss_decision</th>\n",
       "      <th>result</th>\n",
       "      <th>dl_applied</th>\n",
       "      <th>winner</th>\n",
       "      <th>win_by_runs</th>\n",
       "      <th>win_by_wickets</th>\n",
       "      <th>player_of_match</th>\n",
       "      <th>venue</th>\n",
       "      <th>umpire1</th>\n",
       "      <th>umpire2</th>\n",
       "    </tr>\n",
       "  </thead>\n",
       "  <tbody>\n",
       "    <tr>\n",
       "      <th>0</th>\n",
       "      <td>1</td>\n",
       "      <td>2017</td>\n",
       "      <td>Hyderabad</td>\n",
       "      <td>2017-04-05</td>\n",
       "      <td>Sunrisers Hyderabad</td>\n",
       "      <td>Royal Challengers Bangalore</td>\n",
       "      <td>Royal Challengers Bangalore</td>\n",
       "      <td>field</td>\n",
       "      <td>normal</td>\n",
       "      <td>0</td>\n",
       "      <td>Sunrisers Hyderabad</td>\n",
       "      <td>35</td>\n",
       "      <td>0</td>\n",
       "      <td>Yuvraj Singh</td>\n",
       "      <td>Rajiv Gandhi International Stadium, Uppal</td>\n",
       "      <td>AY Dandekar</td>\n",
       "      <td>NJ Llong</td>\n",
       "    </tr>\n",
       "    <tr>\n",
       "      <th>1</th>\n",
       "      <td>2</td>\n",
       "      <td>2017</td>\n",
       "      <td>Pune</td>\n",
       "      <td>2017-04-06</td>\n",
       "      <td>Mumbai Indians</td>\n",
       "      <td>Rising Pune Supergiants</td>\n",
       "      <td>Rising Pune Supergiants</td>\n",
       "      <td>field</td>\n",
       "      <td>normal</td>\n",
       "      <td>0</td>\n",
       "      <td>Rising Pune Supergiants</td>\n",
       "      <td>0</td>\n",
       "      <td>7</td>\n",
       "      <td>SPD Smith</td>\n",
       "      <td>Maharashtra Cricket Association Stadium</td>\n",
       "      <td>A Nand Kishore</td>\n",
       "      <td>S Ravi</td>\n",
       "    </tr>\n",
       "    <tr>\n",
       "      <th>2</th>\n",
       "      <td>3</td>\n",
       "      <td>2017</td>\n",
       "      <td>Rajkot</td>\n",
       "      <td>2017-04-07</td>\n",
       "      <td>Gujarat Lions</td>\n",
       "      <td>Kolkata Knight Riders</td>\n",
       "      <td>Kolkata Knight Riders</td>\n",
       "      <td>field</td>\n",
       "      <td>normal</td>\n",
       "      <td>0</td>\n",
       "      <td>Kolkata Knight Riders</td>\n",
       "      <td>0</td>\n",
       "      <td>10</td>\n",
       "      <td>CA Lynn</td>\n",
       "      <td>Saurashtra Cricket Association Stadium</td>\n",
       "      <td>Nitin Menon</td>\n",
       "      <td>CK Nandan</td>\n",
       "    </tr>\n",
       "    <tr>\n",
       "      <th>3</th>\n",
       "      <td>4</td>\n",
       "      <td>2017</td>\n",
       "      <td>Indore</td>\n",
       "      <td>2017-04-08</td>\n",
       "      <td>Rising Pune Supergiants</td>\n",
       "      <td>Kings XI Punjab</td>\n",
       "      <td>Kings XI Punjab</td>\n",
       "      <td>field</td>\n",
       "      <td>normal</td>\n",
       "      <td>0</td>\n",
       "      <td>Kings XI Punjab</td>\n",
       "      <td>0</td>\n",
       "      <td>6</td>\n",
       "      <td>GJ Maxwell</td>\n",
       "      <td>Holkar Cricket Stadium</td>\n",
       "      <td>AK Chaudhary</td>\n",
       "      <td>C Shamshuddin</td>\n",
       "    </tr>\n",
       "    <tr>\n",
       "      <th>4</th>\n",
       "      <td>5</td>\n",
       "      <td>2017</td>\n",
       "      <td>Bangalore</td>\n",
       "      <td>2017-04-08</td>\n",
       "      <td>Royal Challengers Bangalore</td>\n",
       "      <td>Delhi Capitals</td>\n",
       "      <td>Royal Challengers Bangalore</td>\n",
       "      <td>bat</td>\n",
       "      <td>normal</td>\n",
       "      <td>0</td>\n",
       "      <td>Royal Challengers Bangalore</td>\n",
       "      <td>15</td>\n",
       "      <td>0</td>\n",
       "      <td>KM Jadhav</td>\n",
       "      <td>M Chinnaswamy Stadium</td>\n",
       "      <td>HDPK Dharmasena</td>\n",
       "      <td>SJA Taufel</td>\n",
       "    </tr>\n",
       "  </tbody>\n",
       "</table>\n",
       "</div>"
      ],
      "text/plain": [
       "   id  season       city        date                        team1  \\\n",
       "0   1    2017  Hyderabad  2017-04-05          Sunrisers Hyderabad   \n",
       "1   2    2017       Pune  2017-04-06               Mumbai Indians   \n",
       "2   3    2017     Rajkot  2017-04-07                Gujarat Lions   \n",
       "3   4    2017     Indore  2017-04-08      Rising Pune Supergiants   \n",
       "4   5    2017  Bangalore  2017-04-08  Royal Challengers Bangalore   \n",
       "\n",
       "                         team2                  toss_winner toss_decision  \\\n",
       "0  Royal Challengers Bangalore  Royal Challengers Bangalore         field   \n",
       "1      Rising Pune Supergiants      Rising Pune Supergiants         field   \n",
       "2        Kolkata Knight Riders        Kolkata Knight Riders         field   \n",
       "3              Kings XI Punjab              Kings XI Punjab         field   \n",
       "4               Delhi Capitals  Royal Challengers Bangalore           bat   \n",
       "\n",
       "   result  dl_applied                       winner  win_by_runs  \\\n",
       "0  normal           0          Sunrisers Hyderabad           35   \n",
       "1  normal           0      Rising Pune Supergiants            0   \n",
       "2  normal           0        Kolkata Knight Riders            0   \n",
       "3  normal           0              Kings XI Punjab            0   \n",
       "4  normal           0  Royal Challengers Bangalore           15   \n",
       "\n",
       "   win_by_wickets player_of_match                                      venue  \\\n",
       "0               0    Yuvraj Singh  Rajiv Gandhi International Stadium, Uppal   \n",
       "1               7       SPD Smith    Maharashtra Cricket Association Stadium   \n",
       "2              10         CA Lynn     Saurashtra Cricket Association Stadium   \n",
       "3               6      GJ Maxwell                     Holkar Cricket Stadium   \n",
       "4               0       KM Jadhav                      M Chinnaswamy Stadium   \n",
       "\n",
       "           umpire1        umpire2  \n",
       "0      AY Dandekar       NJ Llong  \n",
       "1   A Nand Kishore         S Ravi  \n",
       "2      Nitin Menon      CK Nandan  \n",
       "3     AK Chaudhary  C Shamshuddin  \n",
       "4  HDPK Dharmasena     SJA Taufel  "
      ]
     },
     "execution_count": 24,
     "metadata": {},
     "output_type": "execute_result"
    }
   ],
   "source": [
    "matches.head()"
   ]
  },
  {
   "cell_type": "markdown",
   "metadata": {
    "papermill": {
     "duration": 0.034101,
     "end_time": "2021-01-01T13:49:01.105323",
     "exception": false,
     "start_time": "2021-01-01T13:49:01.071222",
     "status": "completed"
    },
    "tags": []
   },
   "source": [
    "# Check for HeatMaps:\n",
    "The Heat Map procedure shows the distribution of a quantitative variable over all combinations of 2 categorical factors. If one of the 2 factors represents time, then the evolution of the variable can be easily viewed using the map. A gradient color scale is used to represent the values of the quantitative variable. The correlation between two random variables is a number that runs from -1 through 0 to +1 and indicates a strong inverse relationship, no relationship, and a strong direct relationship, respectively."
   ]
  },
  {
   "cell_type": "code",
   "execution_count": 25,
   "metadata": {
    "execution": {
     "iopub.execute_input": "2021-01-01T13:49:01.178896Z",
     "iopub.status.busy": "2021-01-01T13:49:01.178190Z",
     "iopub.status.idle": "2021-01-01T13:49:02.702459Z",
     "shell.execute_reply": "2021-01-01T13:49:02.701779Z"
    },
    "papermill": {
     "duration": 1.563213,
     "end_time": "2021-01-01T13:49:02.702571",
     "exception": false,
     "start_time": "2021-01-01T13:49:01.139358",
     "status": "completed"
    },
    "tags": []
   },
   "outputs": [
    {
     "data": {
      "text/plain": [
       "<matplotlib.axes._subplots.AxesSubplot at 0x7fb203eac990>"
      ]
     },
     "execution_count": 25,
     "metadata": {},
     "output_type": "execute_result"
    },
    {
     "data": {
      "image/png": "[encoded data removed]",
      "text/plain": [
       "<Figure size 432x288 with 2 Axes>"
      ]
     },
     "metadata": {
      "needs_background": "light"
     },
     "output_type": "display_data"
    }
   ],
   "source": [
    "import seaborn as sns\n",
    "corelation_matrix=matches.corr().round(2)\n",
    "sns.heatmap(data=corelation_matrix,annot=True)"
   ]
  },
  {
   "cell_type": "markdown",
   "metadata": {
    "papermill": {
     "duration": 0.035134,
     "end_time": "2021-01-01T13:49:02.772519",
     "exception": false,
     "start_time": "2021-01-01T13:49:02.737385",
     "status": "completed"
    },
    "tags": []
   },
   "source": [
    "# Label Encoding"
   ]
  },
  {
   "cell_type": "code",
   "execution_count": 26,
   "metadata": {
    "execution": {
     "iopub.execute_input": "2021-01-01T13:49:02.857516Z",
     "iopub.status.busy": "2021-01-01T13:49:02.851205Z",
     "iopub.status.idle": "2021-01-01T13:49:02.892045Z",
     "shell.execute_reply": "2021-01-01T13:49:02.891371Z"
    },
    "papermill": {
     "duration": 0.084214,
     "end_time": "2021-01-01T13:49:02.892173",
     "exception": false,
     "start_time": "2021-01-01T13:49:02.807959",
     "status": "completed"
    },
    "tags": []
   },
   "outputs": [],
   "source": [
    "## Using Label encoding to convert categorical values (Teams) to numbers.\n",
    "matches.replace(['Mumbai Indians','Kolkata Knight Riders','Royal Challengers Bangalore','Deccan Chargers','Chennai Super Kings',\n",
    "                 'Rajasthan Royals','Gujarat Lions','Kings XI Punjab',\n",
    "                 'Sunrisers Hyderabad','Rising Pune Supergiants','Kochi Tuskers Kerala','Pune Warriors','Delhi Capitals']\n",
    "                ,['MI','KKR','RCB','DC','CSK','RR','GL','KXIP','SRH','RPS','KTK','PW','DCC'],inplace=True)\n",
    "\n",
    "encode = {'team1': {'MI':1,'KKR':2,'RCB':3,'DC':4,'CSK':5,'RR':6,'GL':7,'KXIP':8,'SRH':9,'RPS':10,'KTK':11,'PW':12,'DCC':13},\n",
    "          'team2': {'MI':1,'KKR':2,'RCB':3,'DC':4,'CSK':5,'RR':6,'GL':7,'KXIP':8,'SRH':9,'RPS':10,'KTK':11,'PW':12,'DCC':13},\n",
    "          'toss_winner': {'MI':1,'KKR':2,'RCB':3,'DC':4,'CSK':5,'RR':6,'GL':7,'KXIP':8,'SRH':9,'RPS':10,'KTK':11,'PW':12,'DCC':13},\n",
    "          'winner': {'MI':1,'KKR':2,'RCB':3,'DC':4,'CSK':5,'RR':6,'GL':7,'KXIP':8,'SRH':9,'RPS':10,'KTK':11,'PW':12,'DCC':13,'DRAW':14}}\n",
    "matches.replace(encode, inplace=True)"
   ]
  },
  {
   "cell_type": "code",
   "execution_count": 27,
   "metadata": {
    "execution": {
     "iopub.execute_input": "2021-01-01T13:49:02.976955Z",
     "iopub.status.busy": "2021-01-01T13:49:02.976222Z",
     "iopub.status.idle": "2021-01-01T13:49:02.979669Z",
     "shell.execute_reply": "2021-01-01T13:49:02.978996Z"
    },
    "papermill": {
     "duration": 0.04751,
     "end_time": "2021-01-01T13:49:02.979811",
     "exception": false,
     "start_time": "2021-01-01T13:49:02.932301",
     "status": "completed"
    },
    "tags": []
   },
   "outputs": [],
   "source": [
    "## Encoding winner column to numbers based on above assigned values.\n",
    "dicVal = encode['winner']"
   ]
  },
  {
   "cell_type": "code",
   "execution_count": 28,
   "metadata": {
    "execution": {
     "iopub.execute_input": "2021-01-01T13:49:03.064969Z",
     "iopub.status.busy": "2021-01-01T13:49:03.063952Z",
     "iopub.status.idle": "2021-01-01T13:49:03.068496Z",
     "shell.execute_reply": "2021-01-01T13:49:03.067870Z"
    },
    "papermill": {
     "duration": 0.053852,
     "end_time": "2021-01-01T13:49:03.068612",
     "exception": false,
     "start_time": "2021-01-01T13:49:03.014760",
     "status": "completed"
    },
    "tags": []
   },
   "outputs": [
    {
     "data": {
      "text/html": [
       "<div>\n",
       "<style scoped>\n",
       "    .dataframe tbody tr th:only-of-type {\n",
       "        vertical-align: middle;\n",
       "    }\n",
       "\n",
       "    .dataframe tbody tr th {\n",
       "        vertical-align: top;\n",
       "    }\n",
       "\n",
       "    .dataframe thead th {\n",
       "        text-align: right;\n",
       "    }\n",
       "</style>\n",
       "<table border=\"1\" class=\"dataframe\">\n",
       "  <thead>\n",
       "    <tr style=\"text-align: right;\">\n",
       "      <th></th>\n",
       "      <th>team1</th>\n",
       "      <th>team2</th>\n",
       "      <th>city</th>\n",
       "      <th>toss_decision</th>\n",
       "      <th>toss_winner</th>\n",
       "      <th>venue</th>\n",
       "      <th>winner</th>\n",
       "    </tr>\n",
       "  </thead>\n",
       "  <tbody>\n",
       "    <tr>\n",
       "      <th>0</th>\n",
       "      <td>9</td>\n",
       "      <td>3</td>\n",
       "      <td>Hyderabad</td>\n",
       "      <td>field</td>\n",
       "      <td>3</td>\n",
       "      <td>Rajiv Gandhi International Stadium, Uppal</td>\n",
       "      <td>9</td>\n",
       "    </tr>\n",
       "    <tr>\n",
       "      <th>1</th>\n",
       "      <td>1</td>\n",
       "      <td>10</td>\n",
       "      <td>Pune</td>\n",
       "      <td>field</td>\n",
       "      <td>10</td>\n",
       "      <td>Maharashtra Cricket Association Stadium</td>\n",
       "      <td>10</td>\n",
       "    </tr>\n",
       "  </tbody>\n",
       "</table>\n",
       "</div>"
      ],
      "text/plain": [
       "   team1  team2       city toss_decision  toss_winner  \\\n",
       "0      9      3  Hyderabad         field            3   \n",
       "1      1     10       Pune         field           10   \n",
       "\n",
       "                                       venue  winner  \n",
       "0  Rajiv Gandhi International Stadium, Uppal       9  \n",
       "1    Maharashtra Cricket Association Stadium      10  "
      ]
     },
     "execution_count": 28,
     "metadata": {},
     "output_type": "execute_result"
    }
   ],
   "source": [
    "## Creating a new Dataframe with required columns\n",
    "matches = matches[['team1','team2','city','toss_decision','toss_winner','venue','winner']]\n",
    "matches.head(2)"
   ]
  },
  {
   "cell_type": "code",
   "execution_count": 29,
   "metadata": {
    "execution": {
     "iopub.execute_input": "2021-01-01T13:49:03.145911Z",
     "iopub.status.busy": "2021-01-01T13:49:03.145066Z",
     "iopub.status.idle": "2021-01-01T13:49:03.238116Z",
     "shell.execute_reply": "2021-01-01T13:49:03.237136Z"
    },
    "papermill": {
     "duration": 0.134212,
     "end_time": "2021-01-01T13:49:03.238237",
     "exception": false,
     "start_time": "2021-01-01T13:49:03.104025",
     "status": "completed"
    },
    "tags": []
   },
   "outputs": [
    {
     "data": {
      "text/html": [
       "<div>\n",
       "<style scoped>\n",
       "    .dataframe tbody tr th:only-of-type {\n",
       "        vertical-align: middle;\n",
       "    }\n",
       "\n",
       "    .dataframe tbody tr th {\n",
       "        vertical-align: top;\n",
       "    }\n",
       "\n",
       "    .dataframe thead th {\n",
       "        text-align: right;\n",
       "    }\n",
       "</style>\n",
       "<table border=\"1\" class=\"dataframe\">\n",
       "  <thead>\n",
       "    <tr style=\"text-align: right;\">\n",
       "      <th></th>\n",
       "      <th>team1</th>\n",
       "      <th>team2</th>\n",
       "      <th>city</th>\n",
       "      <th>toss_decision</th>\n",
       "      <th>toss_winner</th>\n",
       "      <th>venue</th>\n",
       "      <th>winner</th>\n",
       "      <th>Venue</th>\n",
       "    </tr>\n",
       "  </thead>\n",
       "  <tbody>\n",
       "    <tr>\n",
       "      <th>0</th>\n",
       "      <td>9</td>\n",
       "      <td>3</td>\n",
       "      <td>Hyderabad</td>\n",
       "      <td>field</td>\n",
       "      <td>3</td>\n",
       "      <td>Rajiv Gandhi International Stadium, Uppal</td>\n",
       "      <td>9</td>\n",
       "      <td>28</td>\n",
       "    </tr>\n",
       "    <tr>\n",
       "      <th>1</th>\n",
       "      <td>1</td>\n",
       "      <td>10</td>\n",
       "      <td>Pune</td>\n",
       "      <td>field</td>\n",
       "      <td>10</td>\n",
       "      <td>Maharashtra Cricket Association Stadium</td>\n",
       "      <td>10</td>\n",
       "      <td>21</td>\n",
       "    </tr>\n",
       "    <tr>\n",
       "      <th>2</th>\n",
       "      <td>7</td>\n",
       "      <td>2</td>\n",
       "      <td>Rajkot</td>\n",
       "      <td>field</td>\n",
       "      <td>2</td>\n",
       "      <td>Saurashtra Cricket Association Stadium</td>\n",
       "      <td>2</td>\n",
       "      <td>31</td>\n",
       "    </tr>\n",
       "    <tr>\n",
       "      <th>3</th>\n",
       "      <td>10</td>\n",
       "      <td>8</td>\n",
       "      <td>Indore</td>\n",
       "      <td>field</td>\n",
       "      <td>8</td>\n",
       "      <td>Holkar Cricket Stadium</td>\n",
       "      <td>8</td>\n",
       "      <td>13</td>\n",
       "    </tr>\n",
       "    <tr>\n",
       "      <th>4</th>\n",
       "      <td>3</td>\n",
       "      <td>13</td>\n",
       "      <td>Bangalore</td>\n",
       "      <td>bat</td>\n",
       "      <td>3</td>\n",
       "      <td>M Chinnaswamy Stadium</td>\n",
       "      <td>3</td>\n",
       "      <td>17</td>\n",
       "    </tr>\n",
       "    <tr>\n",
       "      <th>...</th>\n",
       "      <td>...</td>\n",
       "      <td>...</td>\n",
       "      <td>...</td>\n",
       "      <td>...</td>\n",
       "      <td>...</td>\n",
       "      <td>...</td>\n",
       "      <td>...</td>\n",
       "      <td>...</td>\n",
       "    </tr>\n",
       "    <tr>\n",
       "      <th>751</th>\n",
       "      <td>2</td>\n",
       "      <td>1</td>\n",
       "      <td>Mumbai</td>\n",
       "      <td>field</td>\n",
       "      <td>1</td>\n",
       "      <td>Wankhede Stadium</td>\n",
       "      <td>1</td>\n",
       "      <td>40</td>\n",
       "    </tr>\n",
       "    <tr>\n",
       "      <th>752</th>\n",
       "      <td>5</td>\n",
       "      <td>1</td>\n",
       "      <td>Chennai</td>\n",
       "      <td>bat</td>\n",
       "      <td>5</td>\n",
       "      <td>M. A. Chidambaram Stadium</td>\n",
       "      <td>1</td>\n",
       "      <td>18</td>\n",
       "    </tr>\n",
       "    <tr>\n",
       "      <th>753</th>\n",
       "      <td>9</td>\n",
       "      <td>13</td>\n",
       "      <td>Visakhapatnam</td>\n",
       "      <td>field</td>\n",
       "      <td>13</td>\n",
       "      <td>ACA-VDCA Stadium</td>\n",
       "      <td>13</td>\n",
       "      <td>0</td>\n",
       "    </tr>\n",
       "    <tr>\n",
       "      <th>754</th>\n",
       "      <td>13</td>\n",
       "      <td>5</td>\n",
       "      <td>Visakhapatnam</td>\n",
       "      <td>field</td>\n",
       "      <td>5</td>\n",
       "      <td>ACA-VDCA Stadium</td>\n",
       "      <td>5</td>\n",
       "      <td>0</td>\n",
       "    </tr>\n",
       "    <tr>\n",
       "      <th>755</th>\n",
       "      <td>1</td>\n",
       "      <td>5</td>\n",
       "      <td>Hyderabad</td>\n",
       "      <td>bat</td>\n",
       "      <td>1</td>\n",
       "      <td>Rajiv Gandhi Intl. Cricket Stadium</td>\n",
       "      <td>1</td>\n",
       "      <td>29</td>\n",
       "    </tr>\n",
       "  </tbody>\n",
       "</table>\n",
       "<p>756 rows × 8 columns</p>\n",
       "</div>"
      ],
      "text/plain": [
       "     team1  team2           city toss_decision  toss_winner  \\\n",
       "0        9      3      Hyderabad         field            3   \n",
       "1        1     10           Pune         field           10   \n",
       "2        7      2         Rajkot         field            2   \n",
       "3       10      8         Indore         field            8   \n",
       "4        3     13      Bangalore           bat            3   \n",
       "..     ...    ...            ...           ...          ...   \n",
       "751      2      1         Mumbai         field            1   \n",
       "752      5      1        Chennai           bat            5   \n",
       "753      9     13  Visakhapatnam         field           13   \n",
       "754     13      5  Visakhapatnam         field            5   \n",
       "755      1      5      Hyderabad           bat            1   \n",
       "\n",
       "                                         venue  winner  Venue  \n",
       "0    Rajiv Gandhi International Stadium, Uppal       9     28  \n",
       "1      Maharashtra Cricket Association Stadium      10     21  \n",
       "2       Saurashtra Cricket Association Stadium       2     31  \n",
       "3                       Holkar Cricket Stadium       8     13  \n",
       "4                        M Chinnaswamy Stadium       3     17  \n",
       "..                                         ...     ...    ...  \n",
       "751                           Wankhede Stadium       1     40  \n",
       "752                  M. A. Chidambaram Stadium       1     18  \n",
       "753                           ACA-VDCA Stadium      13      0  \n",
       "754                           ACA-VDCA Stadium       5      0  \n",
       "755         Rajiv Gandhi Intl. Cricket Stadium       1     29  \n",
       "\n",
       "[756 rows x 8 columns]"
      ]
     },
     "execution_count": 29,
     "metadata": {},
     "output_type": "execute_result"
    }
   ],
   "source": [
    "from sklearn.preprocessing import LabelEncoder\n",
    "label_coder= LabelEncoder()\n",
    "matches['Venue'] =label_coder.fit_transform(matches[\"venue\"])\n",
    "matches"
   ]
  },
  {
   "cell_type": "markdown",
   "metadata": {
    "papermill": {
     "duration": 0.036528,
     "end_time": "2021-01-01T13:49:03.311468",
     "exception": false,
     "start_time": "2021-01-01T13:49:03.274940",
     "status": "completed"
    },
    "tags": []
   },
   "source": [
    "## *Importing all the algorithms for determining the prediction & accuracy*"
   ]
  },
  {
   "cell_type": "code",
   "execution_count": 30,
   "metadata": {
    "execution": {
     "iopub.execute_input": "2021-01-01T13:49:03.390308Z",
     "iopub.status.busy": "2021-01-01T13:49:03.389600Z",
     "iopub.status.idle": "2021-01-01T13:49:03.668826Z",
     "shell.execute_reply": "2021-01-01T13:49:03.668217Z"
    },
    "papermill": {
     "duration": 0.320984,
     "end_time": "2021-01-01T13:49:03.668958",
     "exception": false,
     "start_time": "2021-01-01T13:49:03.347974",
     "status": "completed"
    },
    "tags": []
   },
   "outputs": [],
   "source": [
    "from sklearn.linear_model import LogisticRegression\n",
    "from sklearn.model_selection import KFold\n",
    "from sklearn.tree import DecisionTreeClassifier\n",
    "from sklearn import metrics\n",
    "from sklearn.naive_bayes import GaussianNB\n",
    "from sklearn.svm import SVC\n",
    "import warnings\n",
    "warnings.filterwarnings(\"ignore\")"
   ]
  },
  {
   "cell_type": "markdown",
   "metadata": {
    "papermill": {
     "duration": 0.037724,
     "end_time": "2021-01-01T13:49:03.744154",
     "exception": false,
     "start_time": "2021-01-01T13:49:03.706430",
     "status": "completed"
    },
    "tags": []
   },
   "source": [
    "## *Creating a general model function to predict the accuracy of model using different algorithms*"
   ]
  },
  {
   "cell_type": "code",
   "execution_count": 31,
   "metadata": {
    "execution": {
     "iopub.execute_input": "2021-01-01T13:49:03.827463Z",
     "iopub.status.busy": "2021-01-01T13:49:03.826586Z",
     "iopub.status.idle": "2021-01-01T13:49:03.830060Z",
     "shell.execute_reply": "2021-01-01T13:49:03.829448Z"
    },
    "papermill": {
     "duration": 0.048612,
     "end_time": "2021-01-01T13:49:03.830173",
     "exception": false,
     "start_time": "2021-01-01T13:49:03.781561",
     "status": "completed"
    },
    "tags": []
   },
   "outputs": [],
   "source": [
    "def classification_model(model, data, predictors, outcome):\n",
    "  model.fit(data[predictors],data[outcome])\n",
    "  predictions = model.predict(data[predictors])\n",
    "  accuracy = metrics.accuracy_score(predictions,data[outcome])\n",
    "  print('Accuracy : %s' % '{0:.3%}'.format(accuracy))\n",
    "  kf = KFold(data.shape[0], n_splits=7)\n",
    "  error = []\n",
    "  model.fit(data[predictors],data[outcome])"
   ]
  },
  {
   "cell_type": "code",
   "execution_count": 32,
   "metadata": {
    "execution": {
     "iopub.execute_input": "2021-01-01T13:49:03.918415Z",
     "iopub.status.busy": "2021-01-01T13:49:03.915051Z",
     "iopub.status.idle": "2021-01-01T13:49:04.354901Z",
     "shell.execute_reply": "2021-01-01T13:49:04.354230Z"
    },
    "papermill": {
     "duration": 0.487759,
     "end_time": "2021-01-01T13:49:04.355016",
     "exception": false,
     "start_time": "2021-01-01T13:49:03.867257",
     "status": "completed"
    },
    "tags": []
   },
   "outputs": [
    {
     "name": "stdout",
     "output_type": "stream",
     "text": [
      "Gaussian Naive Bayes\n",
      "Accuracy : 32.275%\n",
      "Logisitc Regression\n",
      "Accuracy : 26.587%\n",
      "Support Vector Machine\n",
      "Accuracy : 78.571%\n",
      "Decision Tree\n",
      "Accuracy : 87.302%\n"
     ]
    }
   ],
   "source": [
    "## Calling the function\n",
    "print('Gaussian Naive Bayes')\n",
    "model = GaussianNB()\n",
    "outcome_var = ['winner']\n",
    "predictor_var = ['team1', 'team2', 'Venue', 'toss_winner']\n",
    "classification_model(model,matches,predictor_var,outcome_var)\n",
    "print('Logisitc Regression')\n",
    "model = LogisticRegression()\n",
    "outcome_var = ['winner']\n",
    "predictor_var = ['team1', 'team2', 'Venue', 'toss_winner']\n",
    "classification_model(model,matches,predictor_var,outcome_var)\n",
    "print('Support Vector Machine')\n",
    "model = SVC(gamma= 'auto')\n",
    "outcome_var = ['winner']\n",
    "predictor_var = ['team1', 'team2', 'Venue', 'toss_winner']\n",
    "classification_model(model,matches,predictor_var,outcome_var)\n",
    "print('Decision Tree')\n",
    "model = DecisionTreeClassifier()\n",
    "outcome_var = ['winner']\n",
    "predictor_var = ['team1', 'team2', 'Venue', 'toss_winner']\n",
    "classification_model(model,matches,predictor_var,outcome_var)"
   ]
  },
  {
   "cell_type": "markdown",
   "metadata": {
    "papermill": {
     "duration": 0.037365,
     "end_time": "2021-01-01T13:49:04.429883",
     "exception": false,
     "start_time": "2021-01-01T13:49:04.392518",
     "status": "completed"
    },
    "tags": []
   },
   "source": [
    "## *Highest accuracy achieved by Decision Tree classifier with 87.3% accuracy and second highest with 78.5% accuracy using Support Vector Machine algorithm.*"
   ]
  }
 ],
 "metadata": {
  "kernelspec": {
   "display_name": "Python 3",
   "language": "python",
   "name": "python3"
  },
  "language_info": {
   "codemirror_mode": {
    "name": "ipython",
    "version": 3
   },
   "file_extension": ".py",
   "mimetype": "text/x-python",
   "name": "python",
   "nbconvert_exporter": "python",
   "pygments_lexer": "ipython3",
   "version": "3.7.6"
  },
  "papermill": {
   "duration": 12.075966,
   "end_time": "2021-01-01T13:49:05.526317",
   "environment_variables": {},
   "exception": null,
   "input_path": "__notebook__.ipynb",
   "output_path": "__notebook__.ipynb",
   "parameters": {},
   "start_time": "2021-01-01T13:48:53.450351",
   "version": "2.1.0"
  }
 },
 "nbformat": 4,
 "nbformat_minor": 4
}
