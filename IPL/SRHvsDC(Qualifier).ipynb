{
 "cells": [
  {
   "cell_type": "code",
   "execution_count": 1,
   "metadata": {},
   "outputs": [],
   "source": [
    "import pandas as pd\n",
    "import numpy as np\n",
    "import matplotlib.pyplot as plt\n",
    "import seaborn as sns\n",
    "import warnings; warnings.simplefilter('ignore')"
   ]
  },
  {
   "cell_type": "code",
   "execution_count": 2,
   "metadata": {},
   "outputs": [],
   "source": [
    "## Datasets\n",
    "deliveries=pd.read_csv('C:/Users/SONY/Desktop/IPL/deliveries.csv')\n",
    "matches=pd.read_csv('C:/Users/SONY/Desktop/IPL/matches.csv')"
   ]
  },
  {
   "cell_type": "code",
   "execution_count": 3,
   "metadata": {},
   "outputs": [],
   "source": [
    "## Replacing delhi daredevils with delhi capitals\n",
    "matches.team1.replace({'Delhi Daredevils' : 'Delhi Capitals'},regex=True,inplace=True)\n",
    "matches.team2.replace({'Delhi Daredevils' : 'Delhi Capitals'},regex=True,inplace=True)\n",
    "matches.winner.replace({'Delhi Daredevils' : 'Delhi Capitals'},regex=True,inplace=True)\n",
    "matches.toss_winner.replace({'Delhi Daredevils' : 'Delhi Capitals'},regex=True,inplace=True)\n",
    "deliveries.batting_team.replace({'Delhi Daredevils' : 'Delhi Capitals'},regex=True,inplace=True)\n",
    "deliveries.bowling_team.replace({'Delhi Daredevils' : 'Delhi Capitals'},regex=True,inplace=True)"
   ]
  },
  {
   "cell_type": "code",
   "execution_count": 4,
   "metadata": {},
   "outputs": [],
   "source": [
    "## Matches dataset SRH vs DC\n",
    "df1=matches[np.logical_or(np.logical_and(matches['team1']=='Sunrisers Hyderabad',matches['team2']=='Delhi Capitals'),np.logical_and(matches['team2']=='Sunrisers Hyderabad',matches['team1']=='Delhi Capitals'))]"
   ]
  },
  {
   "cell_type": "markdown",
   "metadata": {},
   "source": [
    "# Q1."
   ]
  },
  {
   "cell_type": "code",
   "execution_count": 5,
   "metadata": {},
   "outputs": [
    {
     "data": {
      "image/png": "[encoded data removed]",
      "text/plain": [
       "<Figure size 576x374.4 with 1 Axes>"
      ]
     },
     "metadata": {},
     "output_type": "display_data"
    }
   ],
   "source": [
    "# Head to head SRH vs DC across all season's\n",
    "sns.set(style='dark')\n",
    "fig=plt.gcf()\n",
    "fig.set_size_inches(8,5.2)\n",
    "sns.countplot(df1['winner'],order=df1['winner'].value_counts().index)\n",
    "plt.text(-0.1,5,str(df1['winner'].value_counts()['Sunrisers Hyderabad']),size=29,color='black')\n",
    "plt.text(0.9,3,str(df1['winner'].value_counts()['Delhi Capitals']),size=29,color='black')\n",
    "plt.xlabel('Winner',fontsize=15)\n",
    "plt.ylabel('Count',fontsize=15)\n",
    "plt.yticks(fontsize=0)\n",
    "plt.title('Sunrisers Hyderabad vs Delhi Capitals - head to head')\n",
    "plt.show()"
   ]
  },
  {
   "cell_type": "code",
   "execution_count": 6,
   "metadata": {},
   "outputs": [
    {
     "data": {
      "text/html": [
       "<div>\n",
       "<style scoped>\n",
       "    .dataframe tbody tr th:only-of-type {\n",
       "        vertical-align: middle;\n",
       "    }\n",
       "\n",
       "    .dataframe tbody tr th {\n",
       "        vertical-align: top;\n",
       "    }\n",
       "\n",
       "    .dataframe thead th {\n",
       "        text-align: right;\n",
       "    }\n",
       "</style>\n",
       "<table border=\"1\" class=\"dataframe\">\n",
       "  <thead>\n",
       "    <tr style=\"text-align: right;\">\n",
       "      <th></th>\n",
       "      <th>id</th>\n",
       "      <th>winner</th>\n",
       "    </tr>\n",
       "  </thead>\n",
       "  <tbody>\n",
       "    <tr>\n",
       "      <th>671</th>\n",
       "      <td>7929</td>\n",
       "      <td>Sunrisers Hyderabad</td>\n",
       "    </tr>\n",
       "    <tr>\n",
       "      <th>677</th>\n",
       "      <td>7935</td>\n",
       "      <td>Sunrisers Hyderabad</td>\n",
       "    </tr>\n",
       "    <tr>\n",
       "      <th>711</th>\n",
       "      <td>11152</td>\n",
       "      <td>Sunrisers Hyderabad</td>\n",
       "    </tr>\n",
       "    <tr>\n",
       "      <th>725</th>\n",
       "      <td>11321</td>\n",
       "      <td>Delhi Capitals</td>\n",
       "    </tr>\n",
       "    <tr>\n",
       "      <th>753</th>\n",
       "      <td>11413</td>\n",
       "      <td>Delhi Capitals</td>\n",
       "    </tr>\n",
       "  </tbody>\n",
       "</table>\n",
       "</div>"
      ],
      "text/plain": [
       "        id               winner\n",
       "671   7929  Sunrisers Hyderabad\n",
       "677   7935  Sunrisers Hyderabad\n",
       "711  11152  Sunrisers Hyderabad\n",
       "725  11321       Delhi Capitals\n",
       "753  11413       Delhi Capitals"
      ]
     },
     "execution_count": 6,
     "metadata": {},
     "output_type": "execute_result"
    }
   ],
   "source": [
    "# Last 2 season performance of both the teams against each other.\n",
    "last2_seasons=df1[df1.season>=2018]\n",
    "last2_seasons[['id','winner']]"
   ]
  },
  {
   "cell_type": "code",
   "execution_count": 7,
   "metadata": {},
   "outputs": [
    {
     "data": {
      "text/html": [
       "<div>\n",
       "<style scoped>\n",
       "    .dataframe tbody tr th:only-of-type {\n",
       "        vertical-align: middle;\n",
       "    }\n",
       "\n",
       "    .dataframe tbody tr th {\n",
       "        vertical-align: top;\n",
       "    }\n",
       "\n",
       "    .dataframe thead th {\n",
       "        text-align: right;\n",
       "    }\n",
       "</style>\n",
       "<table border=\"1\" class=\"dataframe\">\n",
       "  <thead>\n",
       "    <tr style=\"text-align: right;\">\n",
       "      <th></th>\n",
       "      <th>winner</th>\n",
       "      <th>win_counts</th>\n",
       "    </tr>\n",
       "  </thead>\n",
       "  <tbody>\n",
       "    <tr>\n",
       "      <th>1</th>\n",
       "      <td>Sunrisers Hyderabad</td>\n",
       "      <td>3</td>\n",
       "    </tr>\n",
       "    <tr>\n",
       "      <th>0</th>\n",
       "      <td>Delhi Capitals</td>\n",
       "      <td>2</td>\n",
       "    </tr>\n",
       "  </tbody>\n",
       "</table>\n",
       "</div>"
      ],
      "text/plain": [
       "                winner  win_counts\n",
       "1  Sunrisers Hyderabad           3\n",
       "0       Delhi Capitals           2"
      ]
     },
     "execution_count": 7,
     "metadata": {},
     "output_type": "execute_result"
    }
   ],
   "source": [
    "# Last two seasons 2018,2019 ipl matches results\n",
    "winner=last2_seasons.groupby(['winner']).size().reset_index(name='win_counts')\n",
    "winner=winner.sort_values(\"win_counts\",ascending=False)\n",
    "winner.groupby(\"winner\").head(2)"
   ]
  },
  {
   "cell_type": "code",
   "execution_count": 8,
   "metadata": {},
   "outputs": [
    {
     "data": {
      "text/html": [
       "<div>\n",
       "<style scoped>\n",
       "    .dataframe tbody tr th:only-of-type {\n",
       "        vertical-align: middle;\n",
       "    }\n",
       "\n",
       "    .dataframe tbody tr th {\n",
       "        vertical-align: top;\n",
       "    }\n",
       "\n",
       "    .dataframe thead th {\n",
       "        text-align: right;\n",
       "    }\n",
       "</style>\n",
       "<table border=\"1\" class=\"dataframe\">\n",
       "  <thead>\n",
       "    <tr style=\"text-align: right;\">\n",
       "      <th></th>\n",
       "      <th>match_id</th>\n",
       "      <th>inning</th>\n",
       "      <th>batting_team</th>\n",
       "      <th>bowling_team</th>\n",
       "      <th>over</th>\n",
       "      <th>ball</th>\n",
       "      <th>batsman</th>\n",
       "      <th>non_striker</th>\n",
       "      <th>bowler</th>\n",
       "      <th>is_super_over</th>\n",
       "      <th>...</th>\n",
       "      <th>bye_runs</th>\n",
       "      <th>legbye_runs</th>\n",
       "      <th>noball_runs</th>\n",
       "      <th>penalty_runs</th>\n",
       "      <th>batsman_runs</th>\n",
       "      <th>extra_runs</th>\n",
       "      <th>total_runs</th>\n",
       "      <th>player_dismissed</th>\n",
       "      <th>dismissal_kind</th>\n",
       "      <th>fielder</th>\n",
       "    </tr>\n",
       "  </thead>\n",
       "  <tbody>\n",
       "    <tr>\n",
       "      <th>4810</th>\n",
       "      <td>21</td>\n",
       "      <td>1</td>\n",
       "      <td>Sunrisers Hyderabad</td>\n",
       "      <td>Delhi Capitals</td>\n",
       "      <td>1</td>\n",
       "      <td>1</td>\n",
       "      <td>DA Warner</td>\n",
       "      <td>S Dhawan</td>\n",
       "      <td>J Yadav</td>\n",
       "      <td>0</td>\n",
       "      <td>...</td>\n",
       "      <td>0</td>\n",
       "      <td>0</td>\n",
       "      <td>1</td>\n",
       "      <td>0</td>\n",
       "      <td>1</td>\n",
       "      <td>1</td>\n",
       "      <td>2</td>\n",
       "      <td>NaN</td>\n",
       "      <td>NaN</td>\n",
       "      <td>NaN</td>\n",
       "    </tr>\n",
       "    <tr>\n",
       "      <th>4811</th>\n",
       "      <td>21</td>\n",
       "      <td>1</td>\n",
       "      <td>Sunrisers Hyderabad</td>\n",
       "      <td>Delhi Capitals</td>\n",
       "      <td>1</td>\n",
       "      <td>2</td>\n",
       "      <td>S Dhawan</td>\n",
       "      <td>DA Warner</td>\n",
       "      <td>J Yadav</td>\n",
       "      <td>0</td>\n",
       "      <td>...</td>\n",
       "      <td>0</td>\n",
       "      <td>0</td>\n",
       "      <td>0</td>\n",
       "      <td>0</td>\n",
       "      <td>4</td>\n",
       "      <td>0</td>\n",
       "      <td>4</td>\n",
       "      <td>NaN</td>\n",
       "      <td>NaN</td>\n",
       "      <td>NaN</td>\n",
       "    </tr>\n",
       "    <tr>\n",
       "      <th>4812</th>\n",
       "      <td>21</td>\n",
       "      <td>1</td>\n",
       "      <td>Sunrisers Hyderabad</td>\n",
       "      <td>Delhi Capitals</td>\n",
       "      <td>1</td>\n",
       "      <td>3</td>\n",
       "      <td>S Dhawan</td>\n",
       "      <td>DA Warner</td>\n",
       "      <td>J Yadav</td>\n",
       "      <td>0</td>\n",
       "      <td>...</td>\n",
       "      <td>0</td>\n",
       "      <td>0</td>\n",
       "      <td>0</td>\n",
       "      <td>0</td>\n",
       "      <td>1</td>\n",
       "      <td>0</td>\n",
       "      <td>1</td>\n",
       "      <td>NaN</td>\n",
       "      <td>NaN</td>\n",
       "      <td>NaN</td>\n",
       "    </tr>\n",
       "    <tr>\n",
       "      <th>4813</th>\n",
       "      <td>21</td>\n",
       "      <td>1</td>\n",
       "      <td>Sunrisers Hyderabad</td>\n",
       "      <td>Delhi Capitals</td>\n",
       "      <td>1</td>\n",
       "      <td>4</td>\n",
       "      <td>DA Warner</td>\n",
       "      <td>S Dhawan</td>\n",
       "      <td>J Yadav</td>\n",
       "      <td>0</td>\n",
       "      <td>...</td>\n",
       "      <td>0</td>\n",
       "      <td>0</td>\n",
       "      <td>0</td>\n",
       "      <td>0</td>\n",
       "      <td>0</td>\n",
       "      <td>0</td>\n",
       "      <td>0</td>\n",
       "      <td>NaN</td>\n",
       "      <td>NaN</td>\n",
       "      <td>NaN</td>\n",
       "    </tr>\n",
       "    <tr>\n",
       "      <th>4814</th>\n",
       "      <td>21</td>\n",
       "      <td>1</td>\n",
       "      <td>Sunrisers Hyderabad</td>\n",
       "      <td>Delhi Capitals</td>\n",
       "      <td>1</td>\n",
       "      <td>5</td>\n",
       "      <td>DA Warner</td>\n",
       "      <td>S Dhawan</td>\n",
       "      <td>J Yadav</td>\n",
       "      <td>0</td>\n",
       "      <td>...</td>\n",
       "      <td>0</td>\n",
       "      <td>0</td>\n",
       "      <td>0</td>\n",
       "      <td>0</td>\n",
       "      <td>1</td>\n",
       "      <td>0</td>\n",
       "      <td>1</td>\n",
       "      <td>NaN</td>\n",
       "      <td>NaN</td>\n",
       "      <td>NaN</td>\n",
       "    </tr>\n",
       "  </tbody>\n",
       "</table>\n",
       "<p>5 rows × 21 columns</p>\n",
       "</div>"
      ],
      "text/plain": [
       "      match_id  inning         batting_team    bowling_team  over  ball  \\\n",
       "4810        21       1  Sunrisers Hyderabad  Delhi Capitals     1     1   \n",
       "4811        21       1  Sunrisers Hyderabad  Delhi Capitals     1     2   \n",
       "4812        21       1  Sunrisers Hyderabad  Delhi Capitals     1     3   \n",
       "4813        21       1  Sunrisers Hyderabad  Delhi Capitals     1     4   \n",
       "4814        21       1  Sunrisers Hyderabad  Delhi Capitals     1     5   \n",
       "\n",
       "        batsman non_striker   bowler  is_super_over  ...  bye_runs  \\\n",
       "4810  DA Warner    S Dhawan  J Yadav              0  ...         0   \n",
       "4811   S Dhawan   DA Warner  J Yadav              0  ...         0   \n",
       "4812   S Dhawan   DA Warner  J Yadav              0  ...         0   \n",
       "4813  DA Warner    S Dhawan  J Yadav              0  ...         0   \n",
       "4814  DA Warner    S Dhawan  J Yadav              0  ...         0   \n",
       "\n",
       "      legbye_runs  noball_runs  penalty_runs  batsman_runs  extra_runs  \\\n",
       "4810            0            1             0             1           1   \n",
       "4811            0            0             0             4           0   \n",
       "4812            0            0             0             1           0   \n",
       "4813            0            0             0             0           0   \n",
       "4814            0            0             0             1           0   \n",
       "\n",
       "      total_runs  player_dismissed dismissal_kind fielder  \n",
       "4810           2               NaN            NaN     NaN  \n",
       "4811           4               NaN            NaN     NaN  \n",
       "4812           1               NaN            NaN     NaN  \n",
       "4813           0               NaN            NaN     NaN  \n",
       "4814           1               NaN            NaN     NaN  \n",
       "\n",
       "[5 rows x 21 columns]"
      ]
     },
     "execution_count": 8,
     "metadata": {},
     "output_type": "execute_result"
    }
   ],
   "source": [
    "## SRH vs DC (deliveries dataset) \n",
    "df2=deliveries[np.logical_or(np.logical_and(deliveries['batting_team']=='Sunrisers Hyderabad',deliveries['bowling_team']=='Delhi Capitals'),np.logical_and(deliveries['bowling_team']=='Sunrisers Hyderabad',deliveries['batting_team']=='Delhi Capitals'))]\n",
    "df2.head(5)"
   ]
  },
  {
   "cell_type": "code",
   "execution_count": 9,
   "metadata": {},
   "outputs": [
    {
     "data": {
      "text/html": [
       "<div>\n",
       "<style scoped>\n",
       "    .dataframe tbody tr th:only-of-type {\n",
       "        vertical-align: middle;\n",
       "    }\n",
       "\n",
       "    .dataframe tbody tr th {\n",
       "        vertical-align: top;\n",
       "    }\n",
       "\n",
       "    .dataframe thead th {\n",
       "        text-align: right;\n",
       "    }\n",
       "</style>\n",
       "<table border=\"1\" class=\"dataframe\">\n",
       "  <thead>\n",
       "    <tr style=\"text-align: right;\">\n",
       "      <th></th>\n",
       "      <th>match_id</th>\n",
       "      <th>inning</th>\n",
       "      <th>batting_team</th>\n",
       "      <th>bowling_team</th>\n",
       "      <th>over</th>\n",
       "      <th>ball</th>\n",
       "      <th>batsman</th>\n",
       "      <th>non_striker</th>\n",
       "      <th>bowler</th>\n",
       "      <th>is_super_over</th>\n",
       "      <th>...</th>\n",
       "      <th>bye_runs</th>\n",
       "      <th>legbye_runs</th>\n",
       "      <th>noball_runs</th>\n",
       "      <th>penalty_runs</th>\n",
       "      <th>batsman_runs</th>\n",
       "      <th>extra_runs</th>\n",
       "      <th>total_runs</th>\n",
       "      <th>player_dismissed</th>\n",
       "      <th>dismissal_kind</th>\n",
       "      <th>fielder</th>\n",
       "    </tr>\n",
       "  </thead>\n",
       "  <tbody>\n",
       "    <tr>\n",
       "      <th>158749</th>\n",
       "      <td>7929</td>\n",
       "      <td>1</td>\n",
       "      <td>Delhi Capitals</td>\n",
       "      <td>Sunrisers Hyderabad</td>\n",
       "      <td>1</td>\n",
       "      <td>1</td>\n",
       "      <td>P Shaw</td>\n",
       "      <td>GJ Maxwell</td>\n",
       "      <td>B Kumar</td>\n",
       "      <td>0</td>\n",
       "      <td>...</td>\n",
       "      <td>0</td>\n",
       "      <td>0</td>\n",
       "      <td>0</td>\n",
       "      <td>0</td>\n",
       "      <td>0</td>\n",
       "      <td>0</td>\n",
       "      <td>0</td>\n",
       "      <td>NaN</td>\n",
       "      <td>NaN</td>\n",
       "      <td>NaN</td>\n",
       "    </tr>\n",
       "    <tr>\n",
       "      <th>158750</th>\n",
       "      <td>7929</td>\n",
       "      <td>1</td>\n",
       "      <td>Delhi Capitals</td>\n",
       "      <td>Sunrisers Hyderabad</td>\n",
       "      <td>1</td>\n",
       "      <td>2</td>\n",
       "      <td>P Shaw</td>\n",
       "      <td>GJ Maxwell</td>\n",
       "      <td>B Kumar</td>\n",
       "      <td>0</td>\n",
       "      <td>...</td>\n",
       "      <td>0</td>\n",
       "      <td>0</td>\n",
       "      <td>0</td>\n",
       "      <td>0</td>\n",
       "      <td>0</td>\n",
       "      <td>0</td>\n",
       "      <td>0</td>\n",
       "      <td>NaN</td>\n",
       "      <td>NaN</td>\n",
       "      <td>NaN</td>\n",
       "    </tr>\n",
       "    <tr>\n",
       "      <th>158751</th>\n",
       "      <td>7929</td>\n",
       "      <td>1</td>\n",
       "      <td>Delhi Capitals</td>\n",
       "      <td>Sunrisers Hyderabad</td>\n",
       "      <td>1</td>\n",
       "      <td>3</td>\n",
       "      <td>P Shaw</td>\n",
       "      <td>GJ Maxwell</td>\n",
       "      <td>B Kumar</td>\n",
       "      <td>0</td>\n",
       "      <td>...</td>\n",
       "      <td>0</td>\n",
       "      <td>0</td>\n",
       "      <td>0</td>\n",
       "      <td>0</td>\n",
       "      <td>1</td>\n",
       "      <td>0</td>\n",
       "      <td>1</td>\n",
       "      <td>NaN</td>\n",
       "      <td>NaN</td>\n",
       "      <td>NaN</td>\n",
       "    </tr>\n",
       "    <tr>\n",
       "      <th>158752</th>\n",
       "      <td>7929</td>\n",
       "      <td>1</td>\n",
       "      <td>Delhi Capitals</td>\n",
       "      <td>Sunrisers Hyderabad</td>\n",
       "      <td>1</td>\n",
       "      <td>4</td>\n",
       "      <td>GJ Maxwell</td>\n",
       "      <td>P Shaw</td>\n",
       "      <td>B Kumar</td>\n",
       "      <td>0</td>\n",
       "      <td>...</td>\n",
       "      <td>0</td>\n",
       "      <td>0</td>\n",
       "      <td>0</td>\n",
       "      <td>0</td>\n",
       "      <td>1</td>\n",
       "      <td>0</td>\n",
       "      <td>1</td>\n",
       "      <td>NaN</td>\n",
       "      <td>NaN</td>\n",
       "      <td>NaN</td>\n",
       "    </tr>\n",
       "    <tr>\n",
       "      <th>158753</th>\n",
       "      <td>7929</td>\n",
       "      <td>1</td>\n",
       "      <td>Delhi Capitals</td>\n",
       "      <td>Sunrisers Hyderabad</td>\n",
       "      <td>1</td>\n",
       "      <td>5</td>\n",
       "      <td>P Shaw</td>\n",
       "      <td>GJ Maxwell</td>\n",
       "      <td>B Kumar</td>\n",
       "      <td>0</td>\n",
       "      <td>...</td>\n",
       "      <td>0</td>\n",
       "      <td>0</td>\n",
       "      <td>0</td>\n",
       "      <td>0</td>\n",
       "      <td>0</td>\n",
       "      <td>0</td>\n",
       "      <td>0</td>\n",
       "      <td>NaN</td>\n",
       "      <td>NaN</td>\n",
       "      <td>NaN</td>\n",
       "    </tr>\n",
       "  </tbody>\n",
       "</table>\n",
       "<p>5 rows × 21 columns</p>\n",
       "</div>"
      ],
      "text/plain": [
       "        match_id  inning    batting_team         bowling_team  over  ball  \\\n",
       "158749      7929       1  Delhi Capitals  Sunrisers Hyderabad     1     1   \n",
       "158750      7929       1  Delhi Capitals  Sunrisers Hyderabad     1     2   \n",
       "158751      7929       1  Delhi Capitals  Sunrisers Hyderabad     1     3   \n",
       "158752      7929       1  Delhi Capitals  Sunrisers Hyderabad     1     4   \n",
       "158753      7929       1  Delhi Capitals  Sunrisers Hyderabad     1     5   \n",
       "\n",
       "           batsman non_striker   bowler  is_super_over  ...  bye_runs  \\\n",
       "158749      P Shaw  GJ Maxwell  B Kumar              0  ...         0   \n",
       "158750      P Shaw  GJ Maxwell  B Kumar              0  ...         0   \n",
       "158751      P Shaw  GJ Maxwell  B Kumar              0  ...         0   \n",
       "158752  GJ Maxwell      P Shaw  B Kumar              0  ...         0   \n",
       "158753      P Shaw  GJ Maxwell  B Kumar              0  ...         0   \n",
       "\n",
       "        legbye_runs  noball_runs  penalty_runs  batsman_runs  extra_runs  \\\n",
       "158749            0            0             0             0           0   \n",
       "158750            0            0             0             0           0   \n",
       "158751            0            0             0             1           0   \n",
       "158752            0            0             0             1           0   \n",
       "158753            0            0             0             0           0   \n",
       "\n",
       "        total_runs  player_dismissed dismissal_kind fielder  \n",
       "158749           0               NaN            NaN     NaN  \n",
       "158750           0               NaN            NaN     NaN  \n",
       "158751           1               NaN            NaN     NaN  \n",
       "158752           1               NaN            NaN     NaN  \n",
       "158753           0               NaN            NaN     NaN  \n",
       "\n",
       "[5 rows x 21 columns]"
      ]
     },
     "execution_count": 9,
     "metadata": {},
     "output_type": "execute_result"
    }
   ],
   "source": [
    "# Dataframe consisting data of last two seasons only.\n",
    "matches_last2_seasons=df2[df2.match_id>=7929]\n",
    "matches_last2_seasons.head(5)"
   ]
  },
  {
   "cell_type": "markdown",
   "metadata": {},
   "source": [
    "# Q4."
   ]
  },
  {
   "cell_type": "code",
   "execution_count": 10,
   "metadata": {},
   "outputs": [],
   "source": [
    "## Most boundaries in h2h in last 2 season's\n",
    "def func(playername):\n",
    " player = matches_last2_seasons[matches_last2_seasons.batsman == playername]\n",
    " boundary_runs_df = player[player.batsman_runs >= 4] \n",
    " boundary_count = boundary_runs_df['batsman_runs'].count()\n",
    " matches = player['match_id'].nunique()\n",
    " avg_boundaries = (boundary_count/matches).round(1)\n",
    " print(\"Average boundaries in H2H of\",playername,'is =',avg_boundaries)"
   ]
  },
  {
   "cell_type": "code",
   "execution_count": 11,
   "metadata": {},
   "outputs": [
    {
     "name": "stdout",
     "output_type": "stream",
     "text": [
      "Average boundaries in H2H of P Shaw is = 4.0\n",
      "Average boundaries in H2H of SS Iyer is = 3.0\n",
      "Average boundaries in H2H of RR Pant is = 6.6\n",
      "Average boundaries in H2H of S Dhawan is = 4.2\n",
      "Average boundaries in H2H of AR Patel is = 1.3\n",
      "Average boundaries in H2H of WP Saha is = 1.0\n",
      "Average boundaries in H2H of J Bairstow is = 8.5\n",
      "Average boundaries in H2H of DA Warner is = 2.5\n",
      "Average boundaries in H2H of HV Patel is = 2.0\n",
      "Average boundaries in H2H of KS Williamson is = 3.2\n",
      "Average boundaries in H2H of MK Pandey is = 1.7\n",
      "Average boundaries in H2H of V Shankar is = 1.8\n"
     ]
    }
   ],
   "source": [
    "func('P Shaw')\n",
    "func('SS Iyer')\n",
    "func('RR Pant')\n",
    "func('S Dhawan')\n",
    "func('AR Patel')\n",
    "func('WP Saha')\n",
    "func('J Bairstow')\n",
    "func('DA Warner')\n",
    "func('HV Patel')\n",
    "func('KS Williamson')\n",
    "func('MK Pandey')\n",
    "func('V Shankar')"
   ]
  },
  {
   "cell_type": "code",
   "execution_count": 12,
   "metadata": {},
   "outputs": [],
   "source": [
    "## Most boundaries in h2h in all season's\n",
    "def name(playern):\n",
    " player_all = df2[df2.batsman == playern]\n",
    " boundary_runs_df_all = player_all[player_all.batsman_runs >= 4] \n",
    " boundary_count_all = boundary_runs_df_all['batsman_runs'].count()\n",
    " matches_all = player_all['match_id'].nunique()\n",
    " avg_boundaries_all = (boundary_count_all/matches_all).round(1)\n",
    " print(\"Average boundaries in H2H of\",playern,'is =',avg_boundaries_all)"
   ]
  },
  {
   "cell_type": "code",
   "execution_count": 13,
   "metadata": {},
   "outputs": [
    {
     "name": "stdout",
     "output_type": "stream",
     "text": [
      "Average boundaries in H2H of P Shaw is = 4.0\n",
      "Average boundaries in H2H of SS Iyer is = 3.7\n",
      "Average boundaries in H2H of RR Pant is = 5.1\n",
      "Average boundaries in H2H of S Dhawan is = 3.9\n",
      "Average boundaries in H2H of AR Patel is = 1.3\n",
      "Average boundaries in H2H of WP Saha is = 1.0\n",
      "Average boundaries in H2H of J Bairstow is = 8.5\n",
      "Average boundaries in H2H of DA Warner is = 3.2\n",
      "Average boundaries in H2H of HV Patel is = 2.0\n",
      "Average boundaries in H2H of KS Williamson is = 4.3\n",
      "Average boundaries in H2H of MK Pandey is = 1.7\n",
      "Average boundaries in H2H of V Shankar is = 1.8\n"
     ]
    }
   ],
   "source": [
    "name('P Shaw')\n",
    "name('SS Iyer')\n",
    "name('RR Pant')\n",
    "name('S Dhawan')\n",
    "name('AR Patel')\n",
    "name('WP Saha')\n",
    "name('J Bairstow')\n",
    "name('DA Warner')\n",
    "name('HV Patel')\n",
    "name('KS Williamson')\n",
    "name('MK Pandey')\n",
    "name('V Shankar')"
   ]
  },
  {
   "cell_type": "markdown",
   "metadata": {},
   "source": [
    "# Q5."
   ]
  },
  {
   "cell_type": "code",
   "execution_count": 14,
   "metadata": {},
   "outputs": [
    {
     "name": "stdout",
     "output_type": "stream",
     "text": [
      "Rashid Khan average wickets against DC in last 2 season = 1.6\n"
     ]
    }
   ],
   "source": [
    "## Rashid's wicket's last 2 season against DC\n",
    "rashid = matches_last2_seasons[matches_last2_seasons.bowler == 'Rashid Khan']\n",
    "wickets = rashid['player_dismissed'].count()\n",
    "matches = rashid['match_id'].nunique()\n",
    "avg_wickets_last2season = (wickets/matches).round(1)\n",
    "print('Rashid Khan average wickets against DC in last 2 season =',avg_wickets_last2season)"
   ]
  },
  {
   "cell_type": "code",
   "execution_count": 15,
   "metadata": {},
   "outputs": [
    {
     "name": "stdout",
     "output_type": "stream",
     "text": [
      "Rashid Khan average wickets against DC in all season = 1.1\n"
     ]
    }
   ],
   "source": [
    "## Rashid's wicket's all season against DC\n",
    "rashid_all = df2[df2.bowler == 'Rashid Khan']\n",
    "wickets_all = rashid_all['player_dismissed'].count()\n",
    "matches_all = rashid_all['match_id'].nunique()\n",
    "avg_wickets_allseason = (wickets_all/matches_all).round(1)\n",
    "print('Rashid Khan average wickets against DC in all season =',avg_wickets_allseason)"
   ]
  },
  {
   "cell_type": "markdown",
   "metadata": {},
   "source": [
    "# Q3."
   ]
  },
  {
   "cell_type": "code",
   "execution_count": 16,
   "metadata": {},
   "outputs": [],
   "source": [
    "## Warner runs in last 7 balls\n",
    "def match(matchid):\n",
    " warner = matches_last2_seasons[matches_last2_seasons.batsman == 'DA Warner']\n",
    " warner_match = warner[warner.match_id == matchid]\n",
    " last7balls = warner_match.tail(7)\n",
    " runs_last7balls = last7balls['batsman_runs'].sum()\n",
    " print(runs_last7balls)"
   ]
  },
  {
   "cell_type": "code",
   "execution_count": 17,
   "metadata": {},
   "outputs": [
    {
     "name": "stdout",
     "output_type": "stream",
     "text": [
      "4\n"
     ]
    }
   ],
   "source": [
    "## First match last season\n",
    "match(11152)"
   ]
  },
  {
   "cell_type": "code",
   "execution_count": 18,
   "metadata": {},
   "outputs": [
    {
     "name": "stdout",
     "output_type": "stream",
     "text": [
      "6\n"
     ]
    }
   ],
   "source": [
    "## Second match last season\n",
    "match(11321)"
   ]
  },
  {
   "cell_type": "code",
   "execution_count": 19,
   "metadata": {},
   "outputs": [
    {
     "name": "stdout",
     "output_type": "stream",
     "text": [
      "0\n"
     ]
    }
   ],
   "source": [
    "## Third match last season\n",
    "match(11413)"
   ]
  },
  {
   "cell_type": "markdown",
   "metadata": {},
   "source": [
    "# Q2."
   ]
  },
  {
   "cell_type": "code",
   "execution_count": 20,
   "metadata": {},
   "outputs": [],
   "source": [
    "## Balls taken to score 20 runs once 30 scored for SRH\n",
    "def over(matchid,over):\n",
    " match = matches_last2_seasons[matches_last2_seasons.match_id == matchid]\n",
    " match_team_srh = match[match.batting_team == 'Sunrisers Hyderabad']\n",
    " overs = match_team_srh[match_team_srh.over <= over]\n",
    " runs = overs['batsman_runs'].sum()\n",
    " print('Runs scored upto',over,'overs =',runs)   "
   ]
  },
  {
   "cell_type": "code",
   "execution_count": 46,
   "metadata": {},
   "outputs": [
    {
     "name": "stdout",
     "output_type": "stream",
     "text": [
      "Runs scored upto 4 overs = 36\n",
      "Runs scored upto 4 overs = 30\n",
      "Runs scored upto 3 overs = 31\n"
     ]
    }
   ],
   "source": [
    "## Approx overs to score approx 30 runs for SRH\n",
    "over(11152,4)\n",
    "over(11321,4)\n",
    "over(11413,3)"
   ]
  },
  {
   "cell_type": "code",
   "execution_count": 22,
   "metadata": {},
   "outputs": [
    {
     "name": "stdout",
     "output_type": "stream",
     "text": [
      "Runs scored upto 5 overs = 48\n",
      "Runs scored upto 7 overs = 48\n",
      "Runs scored upto 6 overs = 54\n"
     ]
    }
   ],
   "source": [
    "## Approx overs to score 20 from 30 runs for SRH\n",
    "over(11152,5)\n",
    "over(11321,7)\n",
    "over(11413,6)"
   ]
  },
  {
   "cell_type": "code",
   "execution_count": 23,
   "metadata": {},
   "outputs": [],
   "source": [
    "## Balls taken to score 20 runs once 30 scored for DC\n",
    "def overs(matchids,overs):\n",
    " match = matches_last2_seasons[matches_last2_seasons.match_id == matchids]\n",
    " match_team_dc = match[match.batting_team == 'Delhi Capitals']\n",
    " overs_dc = match_team_dc[match_team_dc.over <= overs]\n",
    " runs_dc = overs_dc['batsman_runs'].sum()\n",
    " print('Runs scored upto',overs,'overs =',runs_dc)   "
   ]
  },
  {
   "cell_type": "code",
   "execution_count": 45,
   "metadata": {},
   "outputs": [
    {
     "name": "stdout",
     "output_type": "stream",
     "text": [
      "Runs scored upto 5 overs = 27\n",
      "Runs scored upto 4 overs = 30\n",
      "Runs scored upto 4 overs = 32\n"
     ]
    }
   ],
   "source": [
    "## Approx overs to score 30 approx runs for DC\n",
    "overs(11152,5)\n",
    "overs(11321,4)\n",
    "overs(11413,4)"
   ]
  },
  {
   "cell_type": "code",
   "execution_count": 48,
   "metadata": {},
   "outputs": [
    {
     "name": "stdout",
     "output_type": "stream",
     "text": [
      "Runs scored upto 9 overs = 52\n",
      "Runs scored upto 6 overs = 51\n",
      "Runs scored upto 5 overs = 49\n"
     ]
    }
   ],
   "source": [
    "## Approx overs to score 20 from 30 runs for DC\n",
    "overs(11152,9)\n",
    "overs(11321,6)\n",
    "overs(11413,5)"
   ]
  }
 ],
 "metadata": {
  "kernelspec": {
   "display_name": "Python 3",
   "language": "python",
   "name": "python3"
  },
  "language_info": {
   "codemirror_mode": {
    "name": "ipython",
    "version": 3
   },
   "file_extension": ".py",
   "mimetype": "text/x-python",
   "name": "python",
   "nbconvert_exporter": "python",
   "pygments_lexer": "ipython3",
   "version": "3.8.3"
  }
 },
 "nbformat": 4,
 "nbformat_minor": 4
}
